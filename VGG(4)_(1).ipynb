{
  "cells": [
    {
      "cell_type": "markdown",
      "metadata": {
        "id": "view-in-github",
        "colab_type": "text"
      },
      "source": [
        "<a href=\"https://colab.research.google.com/github/edegp/katakana/blob/main/VGG(4)_(1).ipynb\" target=\"_parent\"><img src=\"https://colab.research.google.com/assets/colab-badge.svg\" alt=\"Open In Colab\"/></a>"
      ]
    },
    {
      "cell_type": "code",
      "execution_count": null,
      "metadata": {
        "colab": {
          "base_uri": "https://localhost:8080/"
        },
        "id": "3Tf1yy5YE2Bn",
        "outputId": "deaa2f81-9c38-42bb-9334-5ee87ea77912"
      },
      "outputs": [
        {
          "name": "stdout",
          "output_type": "stream",
          "text": [
            "Mounted at /content/drive\n"
          ]
        }
      ],
      "source": [
        "from google.colab import drive\n",
        "drive.mount('/content/drive')\n",
        "import sys\n",
        "ROOT_PATH = '/content/drive/My Drive/Colab Notebooks/'\n",
        "sys.path.append(ROOT_PATH)\n",
        "import common"
      ]
    },
    {
      "cell_type": "code",
      "execution_count": null,
      "metadata": {
        "id": "Wb93lDnFC288"
      },
      "outputs": [],
      "source": [
        "from PIL import Image\n",
        "import numpy as np\n",
        "import matplotlib.pyplot as plt\n",
        "from keras.preprocessing.image import ImageDataGenerator\n",
        "from tqdm import tqdm\n",
        "from sklearn.model_selection import train_test_split\n",
        "import pandas as pd\n",
        "from common.loss import mean_squared_error\n",
        "from common.multi_layer_net_extend import MultiLayerNetExtend\n",
        "from collections import OrderedDict\n",
        "from common.layers import Convolution,MaxPooling, ReLU, Affine, LogSoftmaxWithLoss,BatchNormalization,Dropout\n",
        "from common.optimizer import RMSProp,Adadelta,Adam\n",
        "from common.pruning import *"
      ]
    },
    {
      "cell_type": "code",
      "execution_count": null,
      "metadata": {
        "colab": {
          "base_uri": "https://localhost:8080/"
        },
        "id": "wfQLfhjvdhVs",
        "outputId": "3807fd7f-3c46-4ba4-9414-7a19ade79e8a"
      },
      "outputs": [
        {
          "name": "stdout",
          "output_type": "stream",
          "text": [
            "Collecting optuna\n",
            "  Downloading optuna-2.10.0-py3-none-any.whl (308 kB)\n",
            "\u001b[K     |████████████████████████████████| 308 kB 5.3 MB/s \n",
            "\u001b[?25hRequirement already satisfied: tqdm in /usr/local/lib/python3.7/dist-packages (from optuna) (4.62.3)\n",
            "Requirement already satisfied: sqlalchemy>=1.1.0 in /usr/local/lib/python3.7/dist-packages (from optuna) (1.4.31)\n",
            "Collecting cliff\n",
            "  Downloading cliff-3.10.1-py3-none-any.whl (81 kB)\n",
            "\u001b[K     |████████████████████████████████| 81 kB 7.6 MB/s \n",
            "\u001b[?25hCollecting cmaes>=0.8.2\n",
            "  Downloading cmaes-0.8.2-py3-none-any.whl (15 kB)\n",
            "Requirement already satisfied: PyYAML in /usr/local/lib/python3.7/dist-packages (from optuna) (3.13)\n",
            "Requirement already satisfied: packaging>=20.0 in /usr/local/lib/python3.7/dist-packages (from optuna) (21.3)\n",
            "Requirement already satisfied: numpy in /usr/local/lib/python3.7/dist-packages (from optuna) (1.21.5)\n",
            "Requirement already satisfied: scipy!=1.4.0 in /usr/local/lib/python3.7/dist-packages (from optuna) (1.4.1)\n",
            "Collecting colorlog\n",
            "  Downloading colorlog-6.6.0-py2.py3-none-any.whl (11 kB)\n",
            "Collecting alembic\n",
            "  Downloading alembic-1.7.6-py3-none-any.whl (210 kB)\n",
            "\u001b[K     |████████████████████████████████| 210 kB 53.3 MB/s \n",
            "\u001b[?25hRequirement already satisfied: pyparsing!=3.0.5,>=2.0.2 in /usr/local/lib/python3.7/dist-packages (from packaging>=20.0->optuna) (3.0.7)\n",
            "Requirement already satisfied: importlib-metadata in /usr/local/lib/python3.7/dist-packages (from sqlalchemy>=1.1.0->optuna) (4.11.1)\n",
            "Requirement already satisfied: greenlet!=0.4.17 in /usr/local/lib/python3.7/dist-packages (from sqlalchemy>=1.1.0->optuna) (1.1.2)\n",
            "Collecting Mako\n",
            "  Downloading Mako-1.1.6-py2.py3-none-any.whl (75 kB)\n",
            "\u001b[K     |████████████████████████████████| 75 kB 3.6 MB/s \n",
            "\u001b[?25hRequirement already satisfied: importlib-resources in /usr/local/lib/python3.7/dist-packages (from alembic->optuna) (5.4.0)\n",
            "Collecting autopage>=0.4.0\n",
            "  Downloading autopage-0.5.0-py3-none-any.whl (29 kB)\n",
            "Collecting cmd2>=1.0.0\n",
            "  Downloading cmd2-2.4.0-py3-none-any.whl (150 kB)\n",
            "\u001b[K     |████████████████████████████████| 150 kB 50.8 MB/s \n",
            "\u001b[?25hCollecting pbr!=2.1.0,>=2.0.0\n",
            "  Downloading pbr-5.8.1-py2.py3-none-any.whl (113 kB)\n",
            "\u001b[K     |████████████████████████████████| 113 kB 55.7 MB/s \n",
            "\u001b[?25hRequirement already satisfied: PrettyTable>=0.7.2 in /usr/local/lib/python3.7/dist-packages (from cliff->optuna) (3.1.1)\n",
            "Collecting stevedore>=2.0.1\n",
            "  Downloading stevedore-3.5.0-py3-none-any.whl (49 kB)\n",
            "\u001b[K     |████████████████████████████████| 49 kB 4.8 MB/s \n",
            "\u001b[?25hRequirement already satisfied: wcwidth>=0.1.7 in /usr/local/lib/python3.7/dist-packages (from cmd2>=1.0.0->cliff->optuna) (0.2.5)\n",
            "Collecting pyperclip>=1.6\n",
            "  Downloading pyperclip-1.8.2.tar.gz (20 kB)\n",
            "Requirement already satisfied: attrs>=16.3.0 in /usr/local/lib/python3.7/dist-packages (from cmd2>=1.0.0->cliff->optuna) (21.4.0)\n",
            "Requirement already satisfied: typing-extensions in /usr/local/lib/python3.7/dist-packages (from cmd2>=1.0.0->cliff->optuna) (3.10.0.2)\n",
            "Requirement already satisfied: zipp>=0.5 in /usr/local/lib/python3.7/dist-packages (from importlib-metadata->sqlalchemy>=1.1.0->optuna) (3.7.0)\n",
            "Requirement already satisfied: MarkupSafe>=0.9.2 in /usr/local/lib/python3.7/dist-packages (from Mako->alembic->optuna) (2.0.1)\n",
            "Building wheels for collected packages: pyperclip\n",
            "  Building wheel for pyperclip (setup.py) ... \u001b[?25l\u001b[?25hdone\n",
            "  Created wheel for pyperclip: filename=pyperclip-1.8.2-py3-none-any.whl size=11137 sha256=ae998ee4ee29b6febf78876867cb64478c06ebbb6693c62969b954fcf1b4efe7\n",
            "  Stored in directory: /root/.cache/pip/wheels/9f/18/84/8f69f8b08169c7bae2dde6bd7daf0c19fca8c8e500ee620a28\n",
            "Successfully built pyperclip\n",
            "Installing collected packages: pyperclip, pbr, stevedore, Mako, cmd2, autopage, colorlog, cmaes, cliff, alembic, optuna\n",
            "Successfully installed Mako-1.1.6 alembic-1.7.6 autopage-0.5.0 cliff-3.10.1 cmaes-0.8.2 cmd2-2.4.0 colorlog-6.6.0 optuna-2.10.0 pbr-5.8.1 pyperclip-1.8.2 stevedore-3.5.0\n"
          ]
        }
      ],
      "source": [
        "!pip install optuna\n",
        "import optuna"
      ]
    },
    {
      "cell_type": "code",
      "execution_count": null,
      "metadata": {
        "id": "J0ZbKR-aT_5m"
      },
      "outputs": [],
      "source": [
        "def he(n):\n",
        "    \"\"\"\n",
        "    Heの初期値を利用するための関数\n",
        "    返り値は、見かけの標準偏差\n",
        "    \"\"\"    \n",
        "    return np.sqrt(2/n)"
      ]
    },
    {
      "cell_type": "code",
      "execution_count": null,
      "metadata": {
        "id": "FBeM6AeBUlP5"
      },
      "outputs": [],
      "source": [
        "def xavier(n1, n2):\n",
        "    \"\"\"\n",
        "    Xavierの初期値を利用するための関数\n",
        "    返り値は、見かけの標準偏差\n",
        "    \"\"\"\n",
        "    return np.sqrt(2/(n1+n2))   "
      ]
    },
    {
      "cell_type": "code",
      "execution_count": null,
      "metadata": {
        "id": "-DyzYdq2C29A"
      },
      "outputs": [],
      "source": [
        "def images_gen(data,label,datagen,num):\n",
        "    datas = [];\n",
        "    labels = [];\n",
        "    data = data.transpose(0,2,3,1)\n",
        "    for data,label in zip(data,label):\n",
        "        data = data.reshape((1,) + data.shape)\n",
        "        batch_list=[]\n",
        "        i = 0\n",
        "        g = datagen.flow(data, batch_size=1)\n",
        "        for i in range(num):\n",
        "          batchs = g.next()\n",
        "          batchs=batchs.reshape((28, 28, 1)).transpose(2,0,1)\n",
        "          datas.append(batchs)\n",
        "          labels.append(label)\n",
        "    train_data=np.array(datas)\n",
        "    train_label=np.array(labels)\n",
        "    for l in [train_data, train_label]:\n",
        "      np.random.seed(1)\n",
        "      np.random.shuffle(l) \n",
        "    return train_data,train_label            \n"
      ]
    },
    {
      "cell_type": "code",
      "execution_count": null,
      "metadata": {
        "id": "35Dxldz7L-zF"
      },
      "outputs": [],
      "source": [
        "def create_img(X_train,y_train,num):\n",
        "      # ImageDataGeneratorのオブジェクト生成\n",
        "    datagen = ImageDataGenerator(\n",
        "            rotation_range=20,\n",
        "            width_shift_range=0.2,\n",
        "            height_shift_range=0.2,\n",
        "            zoom_range=0.3,\n",
        "            shear_range=15\n",
        "            )\n",
        "    X_train,y_train=images_gen(X_train,y_train,datagen,num)\n",
        "    print(X_train.shape)\n",
        "    print(y_train.shape)\n",
        "\n",
        "    x = X_train\n",
        "    t = y_train\n",
        "\n",
        "    x = x.reshape(-1,1,28,28) # 配列形式の変形\n",
        "\n",
        "    return x,t\n"
      ]
    },
    {
      "cell_type": "code",
      "execution_count": null,
      "metadata": {
        "id": "8OOvrt_l5qPi"
      },
      "outputs": [],
      "source": [
        "class GlobalAveragePooling2D:\n",
        "    def __init__(self, GlobalPooling2D='channels_last'):\n",
        "        self.data_format = GlobalPooling2D\n",
        "\n",
        "    def forward(self, x):\n",
        "        self.x = x\n",
        "        out = x.mean(axis= (2, 3))\n",
        "        return out\n",
        "\n",
        "    def backward(self, dout):\n",
        "        xs = self.x.shape\n",
        "        n = xs[2] * xs[3]\n",
        "        dx = np.empty((xs))\n",
        "        for i in range(xs[0]):\n",
        "          dx[i]=np.tile(dout[i] / n,(n)).reshape([xs[1],xs[2],xs[3]],order='F')\n",
        "        return dx"
      ]
    },
    {
      "cell_type": "code",
      "execution_count": null,
      "metadata": {
        "id": "1Iy6bCIHC29C"
      },
      "outputs": [],
      "source": [
        "data = np.load(\"drive/My Drive/Colab Notebooks/test/train_data.npy\")  # パスは適宜変更すること\n",
        "label = np.load(\"drive/My Drive/Colab Notebooks/test/train_label.npy\")  # パスは適宜変更すること\n",
        "# 正規化\n",
        "data = (data - data.min()) / data.max()\n",
        "data = data.astype('float32')\n",
        "X_train, X_test,y_train,y_test = train_test_split(data,label, test_size=0.1, random_state=12)"
      ]
    },
    {
      "cell_type": "code",
      "execution_count": null,
      "metadata": {
        "id": "dr2Eein1C29G"
      },
      "outputs": [],
      "source": [
        "class SimpleConvNet:\n",
        "    def __init__(self, input_dim=(1, 28, 28),\n",
        "                 param=[[32,3,0,1],[64,3,0,1]],\n",
        "                 pool_param=[[2,0,2],[2,0,2]],\n",
        "                output_size=15, \n",
        "                 weight_decay_lambda=1e-5,\n",
        "                 ):\n",
        "        self.weight_decay_lambda = weight_decay_lambda\n",
        "\n",
        "        self.params = {}\n",
        "        #一層目\n",
        "        self.params['W1'] = he(input_dim[0]) * np.random.randn(param[0][0], input_dim[0], param[0][1], param[0][1]) \n",
        "        self.params['b1'] = np.zeros(param[0][0])\n",
        "        self.params['gamma2'] = np.ones(param[0][0])\n",
        "        self.params['beta2'] = np.zeros(param[0][0])\n",
        "\n",
        "        # 二層目\n",
        "        self.params['W2'] = he(param[0][0]) * np.random.randn(param[0][0], param[0][0], param[0][1], param[0][1]) \n",
        "        self.params['b2'] = np.zeros(param[0][0])\n",
        "        \n",
        "        #三層目\n",
        "        self.params['W3'] = he(param[0][0])  * np.random.randn(param[1][0], param[0][0], param[1][1], param[1][1]) \n",
        "        self.params['b3'] = np.zeros(param[1][0])\n",
        "        \n",
        "        self.params['W4'] = he(param[1][0]) * np.random.randn(param[1][0], param[1][0], param[1][1], param[1][1])\n",
        "        self.params['b4'] = np.zeros(param[1][0])\n",
        "        self.params['gamma4'] = np.ones(param[1][0])\n",
        "        self.params['beta4'] = np.zeros(param[1][0])\n",
        "\n",
        "        # アフィン\n",
        "        self.params['W6'] = xavier(param[1][0], output_size) *  np.random.randn(param[1][0], output_size)\n",
        "        self.params['b6'] = np.zeros(output_size)\n",
        "\n",
        "        # レイヤの生成\n",
        "        self.layers = OrderedDict()\n",
        "        self.layers['Conv1'] = Convolution(self.params['W1'], self.params['b1'],param[0][3], param[0][2]) \n",
        "        self.layers['batch2'] = BatchNormalization(self.params['gamma2'],self.params['beta2'])\n",
        "        self.layers['ReLU1'] = ReLU()\n",
        "        self.layers['Conv2'] = Convolution(self.params['W2'], self.params['b2'],param[0][3], param[0][2]) \n",
        "        self.layers['ReLU2'] = ReLU()\n",
        "        self.layers['Pool1'] = MaxPooling(pool_h=pool_param[0][0], pool_w=pool_param[0][0], stride=pool_param[0][2], pad=pool_param[0][1])\n",
        "\n",
        "        self.layers['Conv3'] = Convolution(self.params['W3'], self.params['b3'],param[1][3], param[1][2]) \n",
        "        self.layers['ReLU3'] = ReLU()\n",
        "        self.layers['Conv4'] = Convolution(self.params['W4'], self.params['b4'],param[1][3], param[1][2]) \n",
        "        self.layers['batch4'] = BatchNormalization(self.params['gamma4'],self.params['beta4'])\n",
        "        self.layers['ReLU4'] = ReLU()\n",
        "        self.layers['Pool2'] = MaxPooling(pool_h=pool_param[1][0], pool_w=pool_param[1][0], stride=pool_param[1][2], pad=pool_param[1][1])\n",
        "        self.layers['GAP'] = GlobalAveragePooling2D()\n",
        "        self.layers['Affine2'] = Affine(self.params['W6'], self.params['b6'])\n",
        "        self.last_layer = LogSoftmaxWithLoss()\n",
        "\n",
        "    def predict(self, x):\n",
        "        for layer in self.layers.values():\n",
        "            x = layer.forward(x)\n",
        "\n",
        "        return x\n",
        "\n",
        "    def loss(self, x, t):\n",
        "        y = self.predict(x)\n",
        "        lmd = self.weight_decay_lambda\n",
        "        \n",
        "        weight_decay = 0\n",
        "        weights = ['W1','W2','W3','W4','W6']\n",
        "        for w in weights:\n",
        "            W = self.params[w]\n",
        "            weight_decay += 0.5 * lmd * np.sum(W**2)\n",
        "\n",
        "        return self.last_layer.forward(y, t)+ weight_decay\n",
        "\n",
        "    def accuracy(self, x, t, batch_size=25):\n",
        "        if t.ndim != 1 : t = np.argmax(t, axis=1)\n",
        "        \n",
        "        acc = 0.0\n",
        "        \n",
        "        for i in range(int(x.shape[0] / batch_size)):\n",
        "            tx = x[i*batch_size:(i+1)*batch_size]\n",
        "            tt = t[i*batch_size:(i+1)*batch_size]\n",
        "            y = self.predict(tx)\n",
        "            y = np.argmax(y, axis=1)\n",
        "            acc += np.sum(y == tt) \n",
        "        \n",
        "        return acc / x.shape[0]\n",
        "\n",
        "    def gradient(self, x, t):\n",
        "        self.loss(x, t)\n",
        "        dout = 1\n",
        "        dout = self.last_layer.backward(dout)\n",
        "\n",
        "        layers = list(self.layers.values())\n",
        "        layers.reverse()\n",
        "        for layer in layers:\n",
        "            dout = layer.backward(dout)\n",
        "        lmd = self.weight_decay_lambda\n",
        "        grads = {}\n",
        "        grads['W1'], grads['b1'] = self.layers['Conv1'].dW + lmd * self.layers['Conv1'].dW, self.layers['Conv1'].db\n",
        "        grads['W2'], grads['b2'] = self.layers['Conv2'].dW + lmd * self.layers['Conv2'].dW, self.layers['Conv2'].db\n",
        "        grads['gamma2'], grads['beta2'] = self.layers['batch2'].dgamma, self.layers['batch2'].dbeta\n",
        "        grads['W3'], grads['b3'] = self.layers['Conv3'].dW + lmd * self.layers['Conv3'].dW, self.layers['Conv3'].db\n",
        "        grads['W4'], grads['b4'] = self.layers['Conv4'].dW + lmd * self.layers['Conv4'].dW, self.layers['Conv4'].db\n",
        "        grads['gamma4'], grads['beta4'] = self.layers['batch4'].dgamma, self.layers['batch4'].dbeta\n",
        "        grads['W6'], grads['b6'] = self.layers['Affine2'].dW + lmd * self.layers['Affine2'].dW, self.layers['Affine2'].db\n",
        "\n",
        "        return grads\n",
        "    def condition(self,num,x,t,X_test,y_test):\n",
        "        loss=self.loss(x[:num,:], t[:num,:])\n",
        "        val_loss=self.loss(X_test[:num,:], y_test[:num,:])\n",
        "        acc=self.accuracy(x[:num,:], t[:num,:],num//10)\n",
        "        val_acc=self.accuracy(X_test[:num,:], y_test[:num,:],num//10)\n",
        "        return loss,val_loss,acc,val_acc\n",
        "    def fit(self,model,x,t,epochs,batch_size,test,test_labels):\n",
        "        train_loss = []\n",
        "        test_loss = []\n",
        "        train_accuracy = []\n",
        "        test_accuracy = []\n",
        "        xsize = x.shape[0]\n",
        "        iter_num = np.ceil(xsize / batch_size).astype(np.int64)\n",
        "        for epoch in range(epochs):\n",
        "          print(\"epoch=%s\"%epoch, end=': ')\n",
        "          idx = np.arange(xsize)\n",
        "          np.random.shuffle(idx)\n",
        "          optimizer = Adadelta()\n",
        "          pbar=tqdm(range(iter_num))\n",
        "          for it in pbar:\n",
        "            mask = idx[batch_size*it : batch_size*(it+1)]\n",
        "            # ミニバッチの生成\n",
        "            x_train = x[mask]\n",
        "            t_train = t[mask]\n",
        "            grads = self.gradient(x_train, t_train)\n",
        "            optimizer.update(self.params, grads)\n",
        "            if it % 100 == 0:\n",
        "              condition = self.condition(30,x,t,X_train,y_train)\n",
        "            elif it == len(pbar)-1:\n",
        "              condition = self.condition(300,x,t,X_train,y_train)\n",
        "              train_loss.append(condition[0])\n",
        "              test_loss.append(condition[1])\n",
        "              train_accuracy.append(condition[2])\n",
        "              test_accuracy.append(condition[3])\n",
        "            pbar.set_postfix(OrderedDict(loss=condition[0],val_loss=condition[1], acc=condition[2],val_acc=condition[3]))\n",
        "            if epoch==35:\n",
        "              pruning_rate = 0.3\n",
        "              masks = create_model_mask(self.params,pruning_rate)\n",
        "              self.weight_decay_lambda=1e-7\n",
        "            if 35 < epoch < 50: prune_weight(self.params, masks)\n",
        "            if epoch == 70:\n",
        "              pruning_rate = 0.5\n",
        "              masks = create_model_mask(self.params,pruning_rate)\n",
        "              self.weight_decay_lambda=0\n",
        "            if 70 < epoch < 85: prune_weight(self.params, masks)\n",
        "          history = {'val_loss': test_loss,\n",
        "                    'val_acc': test_accuracy,\n",
        "                    'loss': train_loss,\n",
        "                    'acc': train_accuracy}\n",
        "\n",
        "          if epoch % 10 == 0 and not epoch == 0:           \n",
        "            df_log = pd.DataFrame(history)\n",
        "            df_log.plot(style=['r-', 'r--', 'b-', 'b--'])\n",
        "            plt.ylim([0,1.05])\n",
        "            plt.ylabel(\"Accuracy or loss\")\n",
        "            plt.xlabel(\"epochs\")\n",
        "            plt.show()\n",
        "\n",
        "        return history"
      ]
    },
    {
      "cell_type": "code",
      "execution_count": null,
      "metadata": {
        "id": "U7waJJSSC29I"
      },
      "outputs": [],
      "source": [
        "def build_model(fs,wdl):\n",
        "    model = SimpleConvNet(input_dim=(1, 28, 28), \n",
        "                        param=[[fs,3,0,1],[fs*2,3,0,1]],\n",
        "                        pool_param=[[2,0,2],[2,0,2]],\n",
        "                        output_size=15,\n",
        "                        weight_decay_lambda=wdl\n",
        "                        )\n",
        "    return model"
      ]
    },
    {
      "cell_type": "code",
      "execution_count": null,
      "metadata": {
        "colab": {
          "background_save": true,
          "base_uri": "https://localhost:8080/",
          "height": 1000
        },
        "id": "2g8dAkQl6ynR",
        "outputId": "51432002-fb37-4708-ec60-a9f695864a46"
      },
      "outputs": [
        {
          "name": "stdout",
          "output_type": "stream",
          "text": [
            "(13500, 1, 28, 28)\n",
            "(13500, 15)\n",
            "epoch=0: "
          ]
        },
        {
          "name": "stderr",
          "output_type": "stream",
          "text": [
            "100%|██████████| 844/844 [04:46<00:00,  2.95it/s, loss=0.796, val_loss=0.368, acc=0.747, val_acc=0.92]\n"
          ]
        },
        {
          "name": "stdout",
          "output_type": "stream",
          "text": [
            "epoch=1: "
          ]
        },
        {
          "name": "stderr",
          "output_type": "stream",
          "text": [
            "100%|██████████| 844/844 [04:45<00:00,  2.96it/s, loss=0.56, val_loss=0.213, acc=0.8, val_acc=0.953]\n"
          ]
        },
        {
          "name": "stdout",
          "output_type": "stream",
          "text": [
            "epoch=2: "
          ]
        },
        {
          "name": "stderr",
          "output_type": "stream",
          "text": [
            "100%|██████████| 844/844 [04:45<00:00,  2.95it/s, loss=0.489, val_loss=0.18, acc=0.843, val_acc=0.957]\n"
          ]
        },
        {
          "name": "stdout",
          "output_type": "stream",
          "text": [
            "epoch=3: "
          ]
        },
        {
          "name": "stderr",
          "output_type": "stream",
          "text": [
            "100%|██████████| 844/844 [04:49<00:00,  2.91it/s, loss=0.362, val_loss=0.156, acc=0.867, val_acc=0.953]\n"
          ]
        },
        {
          "name": "stdout",
          "output_type": "stream",
          "text": [
            "epoch=4: "
          ]
        },
        {
          "name": "stderr",
          "output_type": "stream",
          "text": [
            "100%|██████████| 844/844 [04:40<00:00,  3.01it/s, loss=0.333, val_loss=0.108, acc=0.87, val_acc=0.967]\n"
          ]
        },
        {
          "name": "stdout",
          "output_type": "stream",
          "text": [
            "epoch=5: "
          ]
        },
        {
          "name": "stderr",
          "output_type": "stream",
          "text": [
            "100%|██████████| 844/844 [04:40<00:00,  3.00it/s, loss=0.362, val_loss=0.126, acc=0.853, val_acc=0.967]\n"
          ]
        },
        {
          "name": "stdout",
          "output_type": "stream",
          "text": [
            "epoch=6: "
          ]
        },
        {
          "name": "stderr",
          "output_type": "stream",
          "text": [
            "100%|██████████| 844/844 [04:45<00:00,  2.96it/s, loss=0.273, val_loss=0.104, acc=0.887, val_acc=0.983]\n"
          ]
        },
        {
          "name": "stdout",
          "output_type": "stream",
          "text": [
            "epoch=7: "
          ]
        },
        {
          "name": "stderr",
          "output_type": "stream",
          "text": [
            "100%|██████████| 844/844 [04:54<00:00,  2.86it/s, loss=0.229, val_loss=0.0849, acc=0.907, val_acc=0.977]\n"
          ]
        },
        {
          "name": "stdout",
          "output_type": "stream",
          "text": [
            "epoch=8: "
          ]
        },
        {
          "name": "stderr",
          "output_type": "stream",
          "text": [
            "100%|██████████| 844/844 [04:54<00:00,  2.86it/s, loss=0.217, val_loss=0.0872, acc=0.897, val_acc=0.98]\n"
          ]
        },
        {
          "name": "stdout",
          "output_type": "stream",
          "text": [
            "epoch=9: "
          ]
        },
        {
          "name": "stderr",
          "output_type": "stream",
          "text": [
            "100%|██████████| 844/844 [04:51<00:00,  2.90it/s, loss=0.243, val_loss=0.0958, acc=0.913, val_acc=0.983]\n"
          ]
        },
        {
          "name": "stdout",
          "output_type": "stream",
          "text": [
            "epoch=10: "
          ]
        },
        {
          "name": "stderr",
          "output_type": "stream",
          "text": [
            "100%|██████████| 844/844 [04:48<00:00,  2.92it/s, loss=0.219, val_loss=0.0874, acc=0.91, val_acc=0.98]\n"
          ]
        },
        {
          "data": {
            "image/png": "[encoded data removed]",
            "text/plain": [
              "<Figure size 432x288 with 1 Axes>"
            ]
          },
          "metadata": {},
          "output_type": "display_data"
        },
        {
          "name": "stdout",
          "output_type": "stream",
          "text": [
            "epoch=11: "
          ]
        },
        {
          "name": "stderr",
          "output_type": "stream",
          "text": [
            "100%|██████████| 844/844 [04:53<00:00,  2.87it/s, loss=0.192, val_loss=0.0695, acc=0.92, val_acc=0.99]\n"
          ]
        },
        {
          "name": "stdout",
          "output_type": "stream",
          "text": [
            "epoch=12: "
          ]
        },
        {
          "name": "stderr",
          "output_type": "stream",
          "text": [
            "100%|██████████| 844/844 [04:52<00:00,  2.88it/s, loss=0.168, val_loss=0.0872, acc=0.943, val_acc=0.98]\n"
          ]
        },
        {
          "name": "stdout",
          "output_type": "stream",
          "text": [
            "epoch=13: "
          ]
        },
        {
          "name": "stderr",
          "output_type": "stream",
          "text": [
            "100%|██████████| 844/844 [04:49<00:00,  2.91it/s, loss=0.178, val_loss=0.0768, acc=0.937, val_acc=0.983]\n"
          ]
        },
        {
          "name": "stdout",
          "output_type": "stream",
          "text": [
            "epoch=14: "
          ]
        },
        {
          "name": "stderr",
          "output_type": "stream",
          "text": [
            "100%|██████████| 844/844 [04:44<00:00,  2.97it/s, loss=0.145, val_loss=0.0786, acc=0.957, val_acc=0.987]\n"
          ]
        },
        {
          "name": "stdout",
          "output_type": "stream",
          "text": [
            "epoch=15: "
          ]
        },
        {
          "name": "stderr",
          "output_type": "stream",
          "text": [
            "100%|██████████| 844/844 [04:44<00:00,  2.96it/s, loss=0.142, val_loss=0.0753, acc=0.937, val_acc=0.987]\n"
          ]
        },
        {
          "name": "stdout",
          "output_type": "stream",
          "text": [
            "epoch=16: "
          ]
        },
        {
          "name": "stderr",
          "output_type": "stream",
          "text": [
            "100%|██████████| 844/844 [04:46<00:00,  2.95it/s, loss=0.132, val_loss=0.0695, acc=0.953, val_acc=0.987]\n"
          ]
        },
        {
          "name": "stdout",
          "output_type": "stream",
          "text": [
            "epoch=17: "
          ]
        },
        {
          "name": "stderr",
          "output_type": "stream",
          "text": [
            "100%|██████████| 844/844 [04:41<00:00,  3.00it/s, loss=0.119, val_loss=0.0727, acc=0.977, val_acc=0.997]\n"
          ]
        },
        {
          "name": "stdout",
          "output_type": "stream",
          "text": [
            "epoch=18: "
          ]
        },
        {
          "name": "stderr",
          "output_type": "stream",
          "text": [
            "100%|██████████| 844/844 [04:43<00:00,  2.98it/s, loss=0.142, val_loss=0.081, acc=0.97, val_acc=0.99]\n"
          ]
        },
        {
          "name": "stdout",
          "output_type": "stream",
          "text": [
            "epoch=19: "
          ]
        },
        {
          "name": "stderr",
          "output_type": "stream",
          "text": [
            "100%|██████████| 844/844 [04:44<00:00,  2.96it/s, loss=0.144, val_loss=0.0838, acc=0.95, val_acc=0.99]\n"
          ]
        },
        {
          "name": "stdout",
          "output_type": "stream",
          "text": [
            "epoch=20: "
          ]
        },
        {
          "name": "stderr",
          "output_type": "stream",
          "text": [
            "100%|██████████| 844/844 [04:51<00:00,  2.89it/s, loss=0.129, val_loss=0.0806, acc=0.963, val_acc=0.987]\n"
          ]
        },
        {
          "data": {
            "image/png": "[encoded data removed]",
            "text/plain": [
              "<Figure size 432x288 with 1 Axes>"
            ]
          },
          "metadata": {},
          "output_type": "display_data"
        },
        {
          "name": "stdout",
          "output_type": "stream",
          "text": [
            "epoch=21: "
          ]
        },
        {
          "name": "stderr",
          "output_type": "stream",
          "text": [
            "100%|██████████| 844/844 [04:52<00:00,  2.89it/s, loss=0.109, val_loss=0.082, acc=0.977, val_acc=0.997]\n"
          ]
        },
        {
          "name": "stdout",
          "output_type": "stream",
          "text": [
            "epoch=22: "
          ]
        },
        {
          "name": "stderr",
          "output_type": "stream",
          "text": [
            "100%|██████████| 844/844 [04:55<00:00,  2.86it/s, loss=0.134, val_loss=0.0875, acc=0.967, val_acc=0.987]\n"
          ]
        },
        {
          "name": "stdout",
          "output_type": "stream",
          "text": [
            "epoch=23: "
          ]
        },
        {
          "name": "stderr",
          "output_type": "stream",
          "text": [
            "100%|██████████| 844/844 [04:55<00:00,  2.86it/s, loss=0.103, val_loss=0.0814, acc=0.973, val_acc=0.993]\n"
          ]
        },
        {
          "name": "stdout",
          "output_type": "stream",
          "text": [
            "epoch=24: "
          ]
        },
        {
          "name": "stderr",
          "output_type": "stream",
          "text": [
            "100%|██████████| 844/844 [04:55<00:00,  2.85it/s, loss=0.107, val_loss=0.0875, acc=0.98, val_acc=0.983]\n"
          ]
        },
        {
          "name": "stdout",
          "output_type": "stream",
          "text": [
            "epoch=25: "
          ]
        },
        {
          "name": "stderr",
          "output_type": "stream",
          "text": [
            "100%|██████████| 844/844 [04:53<00:00,  2.87it/s, loss=0.0998, val_loss=0.0776, acc=0.973, val_acc=0.993]\n"
          ]
        },
        {
          "name": "stdout",
          "output_type": "stream",
          "text": [
            "epoch=26: "
          ]
        },
        {
          "name": "stderr",
          "output_type": "stream",
          "text": [
            "100%|██████████| 844/844 [04:57<00:00,  2.84it/s, loss=0.117, val_loss=0.0953, acc=0.973, val_acc=0.973]\n"
          ]
        },
        {
          "name": "stdout",
          "output_type": "stream",
          "text": [
            "epoch=27: "
          ]
        },
        {
          "name": "stderr",
          "output_type": "stream",
          "text": [
            "100%|██████████| 844/844 [04:51<00:00,  2.89it/s, loss=0.0945, val_loss=0.088, acc=0.973, val_acc=0.987]\n"
          ]
        },
        {
          "name": "stdout",
          "output_type": "stream",
          "text": [
            "epoch=28: "
          ]
        },
        {
          "name": "stderr",
          "output_type": "stream",
          "text": [
            "100%|██████████| 844/844 [04:56<00:00,  2.84it/s, loss=0.119, val_loss=0.0804, acc=0.973, val_acc=0.99]\n"
          ]
        },
        {
          "name": "stdout",
          "output_type": "stream",
          "text": [
            "epoch=29: "
          ]
        },
        {
          "name": "stderr",
          "output_type": "stream",
          "text": [
            "100%|██████████| 844/844 [04:52<00:00,  2.88it/s, loss=0.0875, val_loss=0.0837, acc=0.99, val_acc=0.997]\n"
          ]
        },
        {
          "name": "stdout",
          "output_type": "stream",
          "text": [
            "epoch=30: "
          ]
        },
        {
          "name": "stderr",
          "output_type": "stream",
          "text": [
            "100%|██████████| 844/844 [04:54<00:00,  2.86it/s, loss=0.101, val_loss=0.0822, acc=0.98, val_acc=0.997]\n"
          ]
        },
        {
          "data": {
            "image/png": "[encoded data removed]",
            "text/plain": [
              "<Figure size 432x288 with 1 Axes>"
            ]
          },
          "metadata": {},
          "output_type": "display_data"
        },
        {
          "name": "stdout",
          "output_type": "stream",
          "text": [
            "epoch=31: "
          ]
        },
        {
          "name": "stderr",
          "output_type": "stream",
          "text": [
            "100%|██████████| 844/844 [04:53<00:00,  2.87it/s, loss=0.105, val_loss=0.087, acc=0.99, val_acc=0.993]\n"
          ]
        },
        {
          "name": "stdout",
          "output_type": "stream",
          "text": [
            "epoch=32: "
          ]
        },
        {
          "name": "stderr",
          "output_type": "stream",
          "text": [
            "100%|██████████| 844/844 [04:56<00:00,  2.85it/s, loss=0.106, val_loss=0.103, acc=0.98, val_acc=0.987]\n"
          ]
        },
        {
          "name": "stdout",
          "output_type": "stream",
          "text": [
            "epoch=33: "
          ]
        },
        {
          "name": "stderr",
          "output_type": "stream",
          "text": [
            "100%|██████████| 844/844 [05:00<00:00,  2.81it/s, loss=0.0901, val_loss=0.108, acc=0.997, val_acc=0.99]\n"
          ]
        },
        {
          "name": "stdout",
          "output_type": "stream",
          "text": [
            "epoch=34: "
          ]
        },
        {
          "name": "stderr",
          "output_type": "stream",
          "text": [
            "100%|██████████| 844/844 [05:01<00:00,  2.79it/s, loss=0.1, val_loss=0.0982, acc=0.987, val_acc=0.99]\n"
          ]
        },
        {
          "name": "stdout",
          "output_type": "stream",
          "text": [
            "epoch=35: "
          ]
        },
        {
          "name": "stderr",
          "output_type": "stream",
          "text": [
            "100%|██████████| 844/844 [06:16<00:00,  2.24it/s, loss=0.00917, val_loss=0.0232, acc=0.993, val_acc=0.99]\n"
          ]
        },
        {
          "name": "stdout",
          "output_type": "stream",
          "text": [
            "epoch=36: "
          ]
        },
        {
          "name": "stderr",
          "output_type": "stream",
          "text": [
            "100%|██████████| 844/844 [04:58<00:00,  2.83it/s, loss=0.00976, val_loss=0.0237, acc=0.993, val_acc=0.993]\n"
          ]
        },
        {
          "name": "stdout",
          "output_type": "stream",
          "text": [
            "epoch=37: "
          ]
        },
        {
          "name": "stderr",
          "output_type": "stream",
          "text": [
            "100%|██████████| 844/844 [04:57<00:00,  2.84it/s, loss=0.0098, val_loss=0.0237, acc=0.993, val_acc=0.993]\n"
          ]
        },
        {
          "name": "stdout",
          "output_type": "stream",
          "text": [
            "epoch=38: "
          ]
        },
        {
          "name": "stderr",
          "output_type": "stream",
          "text": [
            "100%|██████████| 844/844 [04:59<00:00,  2.82it/s, loss=0.00986, val_loss=0.0238, acc=0.993, val_acc=0.993]\n"
          ]
        },
        {
          "name": "stdout",
          "output_type": "stream",
          "text": [
            "epoch=39: "
          ]
        },
        {
          "name": "stderr",
          "output_type": "stream",
          "text": [
            "100%|██████████| 844/844 [04:55<00:00,  2.86it/s, loss=0.00994, val_loss=0.0239, acc=0.993, val_acc=0.993]\n"
          ]
        },
        {
          "name": "stdout",
          "output_type": "stream",
          "text": [
            "epoch=40: "
          ]
        },
        {
          "name": "stderr",
          "output_type": "stream",
          "text": [
            "100%|██████████| 844/844 [04:54<00:00,  2.87it/s, loss=0.01, val_loss=0.024, acc=0.993, val_acc=0.993]\n"
          ]
        },
        {
          "data": {
            "image/png": "[encoded data removed]",
            "text/plain": [
              "<Figure size 432x288 with 1 Axes>"
            ]
          },
          "metadata": {},
          "output_type": "display_data"
        },
        {
          "name": "stdout",
          "output_type": "stream",
          "text": [
            "epoch=41: "
          ]
        },
        {
          "name": "stderr",
          "output_type": "stream",
          "text": [
            "100%|██████████| 844/844 [04:57<00:00,  2.83it/s, loss=0.0102, val_loss=0.0241, acc=0.993, val_acc=0.993]\n"
          ]
        },
        {
          "name": "stdout",
          "output_type": "stream",
          "text": [
            "epoch=42: "
          ]
        },
        {
          "name": "stderr",
          "output_type": "stream",
          "text": [
            "100%|██████████| 844/844 [05:02<00:00,  2.79it/s, loss=0.0103, val_loss=0.0242, acc=0.993, val_acc=0.993]\n"
          ]
        },
        {
          "name": "stdout",
          "output_type": "stream",
          "text": [
            "epoch=43: "
          ]
        },
        {
          "name": "stderr",
          "output_type": "stream",
          "text": [
            "100%|██████████| 844/844 [05:01<00:00,  2.80it/s, loss=0.0104, val_loss=0.0244, acc=0.993, val_acc=0.993]\n"
          ]
        },
        {
          "name": "stdout",
          "output_type": "stream",
          "text": [
            "epoch=44: "
          ]
        },
        {
          "name": "stderr",
          "output_type": "stream",
          "text": [
            "100%|██████████| 844/844 [05:02<00:00,  2.79it/s, loss=0.0106, val_loss=0.0246, acc=0.993, val_acc=0.993]\n"
          ]
        },
        {
          "name": "stdout",
          "output_type": "stream",
          "text": [
            "epoch=45: "
          ]
        },
        {
          "name": "stderr",
          "output_type": "stream",
          "text": [
            "100%|██████████| 844/844 [05:09<00:00,  2.73it/s, loss=0.0108, val_loss=0.0248, acc=0.993, val_acc=0.993]\n"
          ]
        },
        {
          "name": "stdout",
          "output_type": "stream",
          "text": [
            "epoch=46: "
          ]
        },
        {
          "name": "stderr",
          "output_type": "stream",
          "text": [
            "100%|██████████| 844/844 [05:10<00:00,  2.72it/s, loss=0.011, val_loss=0.025, acc=0.993, val_acc=0.993]\n"
          ]
        },
        {
          "name": "stdout",
          "output_type": "stream",
          "text": [
            "epoch=47: "
          ]
        },
        {
          "name": "stderr",
          "output_type": "stream",
          "text": [
            "100%|██████████| 844/844 [05:06<00:00,  2.76it/s, loss=0.0113, val_loss=0.0252, acc=0.993, val_acc=0.993]\n"
          ]
        },
        {
          "name": "stdout",
          "output_type": "stream",
          "text": [
            "epoch=48: "
          ]
        },
        {
          "name": "stderr",
          "output_type": "stream",
          "text": [
            "100%|██████████| 844/844 [05:06<00:00,  2.75it/s, loss=0.0115, val_loss=0.0254, acc=0.993, val_acc=0.993]\n"
          ]
        },
        {
          "name": "stdout",
          "output_type": "stream",
          "text": [
            "epoch=49: "
          ]
        },
        {
          "name": "stderr",
          "output_type": "stream",
          "text": [
            "100%|██████████| 844/844 [05:07<00:00,  2.75it/s, loss=0.0118, val_loss=0.0257, acc=0.993, val_acc=0.993]\n"
          ]
        },
        {
          "name": "stdout",
          "output_type": "stream",
          "text": [
            "epoch=50: "
          ]
        },
        {
          "name": "stderr",
          "output_type": "stream",
          "text": [
            "100%|██████████| 844/844 [05:13<00:00,  2.69it/s, loss=0.012, val_loss=0.026, acc=0.993, val_acc=0.993]\n"
          ]
        },
        {
          "data": {
            "image/png": "[encoded data removed]",
            "text/plain": [
              "<Figure size 432x288 with 1 Axes>"
            ]
          },
          "metadata": {},
          "output_type": "display_data"
        },
        {
          "name": "stdout",
          "output_type": "stream",
          "text": [
            "epoch=51: "
          ]
        },
        {
          "name": "stderr",
          "output_type": "stream",
          "text": [
            "100%|██████████| 844/844 [05:06<00:00,  2.75it/s, loss=0.0124, val_loss=0.0263, acc=0.993, val_acc=0.993]\n"
          ]
        },
        {
          "name": "stdout",
          "output_type": "stream",
          "text": [
            "epoch=52: "
          ]
        },
        {
          "name": "stderr",
          "output_type": "stream",
          "text": [
            "100%|██████████| 844/844 [05:13<00:00,  2.70it/s, loss=0.0127, val_loss=0.0266, acc=0.993, val_acc=0.993]\n"
          ]
        },
        {
          "name": "stdout",
          "output_type": "stream",
          "text": [
            "epoch=53: "
          ]
        },
        {
          "name": "stderr",
          "output_type": "stream",
          "text": [
            "100%|██████████| 844/844 [05:10<00:00,  2.72it/s, loss=0.0131, val_loss=0.027, acc=0.993, val_acc=0.993]\n"
          ]
        },
        {
          "name": "stdout",
          "output_type": "stream",
          "text": [
            "epoch=54: "
          ]
        },
        {
          "name": "stderr",
          "output_type": "stream",
          "text": [
            "100%|██████████| 844/844 [05:10<00:00,  2.72it/s, loss=0.0135, val_loss=0.0274, acc=0.993, val_acc=0.993]\n"
          ]
        },
        {
          "name": "stdout",
          "output_type": "stream",
          "text": [
            "epoch=55: "
          ]
        },
        {
          "name": "stderr",
          "output_type": "stream",
          "text": [
            "100%|██████████| 844/844 [05:11<00:00,  2.71it/s, loss=0.0139, val_loss=0.0278, acc=0.993, val_acc=0.993]\n"
          ]
        },
        {
          "name": "stdout",
          "output_type": "stream",
          "text": [
            "epoch=56: "
          ]
        },
        {
          "name": "stderr",
          "output_type": "stream",
          "text": [
            "100%|██████████| 844/844 [05:11<00:00,  2.71it/s, loss=0.0144, val_loss=0.0283, acc=0.993, val_acc=0.993]\n"
          ]
        },
        {
          "name": "stdout",
          "output_type": "stream",
          "text": [
            "epoch=57: "
          ]
        },
        {
          "name": "stderr",
          "output_type": "stream",
          "text": [
            "100%|██████████| 844/844 [05:09<00:00,  2.73it/s, loss=0.0148, val_loss=0.0288, acc=0.993, val_acc=0.993]\n"
          ]
        },
        {
          "name": "stdout",
          "output_type": "stream",
          "text": [
            "epoch=58: "
          ]
        },
        {
          "name": "stderr",
          "output_type": "stream",
          "text": [
            "100%|██████████| 844/844 [05:03<00:00,  2.78it/s, loss=0.0154, val_loss=0.0293, acc=0.993, val_acc=0.993]\n"
          ]
        },
        {
          "name": "stdout",
          "output_type": "stream",
          "text": [
            "epoch=59: "
          ]
        },
        {
          "name": "stderr",
          "output_type": "stream",
          "text": [
            "100%|██████████| 844/844 [05:00<00:00,  2.81it/s, loss=0.0159, val_loss=0.0298, acc=0.993, val_acc=0.993]\n"
          ]
        },
        {
          "name": "stdout",
          "output_type": "stream",
          "text": [
            "epoch=60: "
          ]
        },
        {
          "name": "stderr",
          "output_type": "stream",
          "text": [
            "100%|██████████| 844/844 [05:07<00:00,  2.74it/s, loss=0.0164, val_loss=0.0304, acc=0.993, val_acc=0.993]\n"
          ]
        },
        {
          "data": {
            "image/png": "[encoded data removed]",
            "text/plain": [
              "<Figure size 432x288 with 1 Axes>"
            ]
          },
          "metadata": {},
          "output_type": "display_data"
        },
        {
          "name": "stdout",
          "output_type": "stream",
          "text": [
            "epoch=61: "
          ]
        },
        {
          "name": "stderr",
          "output_type": "stream",
          "text": [
            "100%|██████████| 844/844 [05:07<00:00,  2.74it/s, loss=0.017, val_loss=0.0309, acc=0.993, val_acc=0.993]\n"
          ]
        },
        {
          "name": "stdout",
          "output_type": "stream",
          "text": [
            "epoch=62: "
          ]
        },
        {
          "name": "stderr",
          "output_type": "stream",
          "text": [
            "100%|██████████| 844/844 [05:05<00:00,  2.76it/s, loss=0.0176, val_loss=0.0316, acc=0.993, val_acc=0.993]\n"
          ]
        },
        {
          "name": "stdout",
          "output_type": "stream",
          "text": [
            "epoch=63: "
          ]
        },
        {
          "name": "stderr",
          "output_type": "stream",
          "text": [
            "100%|██████████| 844/844 [05:02<00:00,  2.79it/s, loss=0.0183, val_loss=0.0322, acc=0.993, val_acc=0.993]\n"
          ]
        },
        {
          "name": "stdout",
          "output_type": "stream",
          "text": [
            "epoch=64: "
          ]
        },
        {
          "name": "stderr",
          "output_type": "stream",
          "text": [
            "100%|██████████| 844/844 [05:03<00:00,  2.78it/s, loss=0.0189, val_loss=0.0329, acc=0.993, val_acc=0.993]\n"
          ]
        },
        {
          "name": "stdout",
          "output_type": "stream",
          "text": [
            "epoch=65: "
          ]
        },
        {
          "name": "stderr",
          "output_type": "stream",
          "text": [
            "100%|██████████| 844/844 [05:03<00:00,  2.78it/s, loss=0.0196, val_loss=0.0336, acc=0.993, val_acc=0.993]\n"
          ]
        },
        {
          "name": "stdout",
          "output_type": "stream",
          "text": [
            "epoch=66: "
          ]
        },
        {
          "name": "stderr",
          "output_type": "stream",
          "text": [
            "100%|██████████| 844/844 [05:04<00:00,  2.77it/s, loss=0.0204, val_loss=0.0343, acc=0.993, val_acc=0.993]\n"
          ]
        },
        {
          "name": "stdout",
          "output_type": "stream",
          "text": [
            "epoch=67: "
          ]
        },
        {
          "name": "stderr",
          "output_type": "stream",
          "text": [
            "100%|██████████| 844/844 [05:07<00:00,  2.74it/s, loss=0.0211, val_loss=0.035, acc=0.993, val_acc=0.993]\n"
          ]
        },
        {
          "name": "stdout",
          "output_type": "stream",
          "text": [
            "epoch=68: "
          ]
        },
        {
          "name": "stderr",
          "output_type": "stream",
          "text": [
            "100%|██████████| 844/844 [05:05<00:00,  2.76it/s, loss=0.0218, val_loss=0.0358, acc=0.993, val_acc=0.993]\n"
          ]
        },
        {
          "name": "stdout",
          "output_type": "stream",
          "text": [
            "epoch=69: "
          ]
        },
        {
          "name": "stderr",
          "output_type": "stream",
          "text": [
            "100%|██████████| 844/844 [05:04<00:00,  2.77it/s, loss=0.0226, val_loss=0.0366, acc=0.993, val_acc=0.993]\n"
          ]
        },
        {
          "name": "stdout",
          "output_type": "stream",
          "text": [
            "epoch=70: "
          ]
        },
        {
          "name": "stderr",
          "output_type": "stream",
          "text": [
            "100%|██████████| 844/844 [06:20<00:00,  2.22it/s, loss=0.00899, val_loss=0.0229, acc=0.993, val_acc=0.993]\n"
          ]
        },
        {
          "data": {
            "image/png": "[encoded data removed]",
            "text/plain": [
              "<Figure size 432x288 with 1 Axes>"
            ]
          },
          "metadata": {},
          "output_type": "display_data"
        },
        {
          "name": "stdout",
          "output_type": "stream",
          "text": [
            "epoch=71: "
          ]
        },
        {
          "name": "stderr",
          "output_type": "stream",
          "text": [
            "100%|██████████| 844/844 [05:03<00:00,  2.78it/s, loss=0.00899, val_loss=0.0229, acc=0.993, val_acc=0.993]\n"
          ]
        },
        {
          "name": "stdout",
          "output_type": "stream",
          "text": [
            "epoch=72: "
          ]
        },
        {
          "name": "stderr",
          "output_type": "stream",
          "text": [
            "100%|██████████| 844/844 [05:02<00:00,  2.79it/s, loss=0.00899, val_loss=0.0229, acc=0.993, val_acc=0.993]\n"
          ]
        },
        {
          "name": "stdout",
          "output_type": "stream",
          "text": [
            "epoch=73: "
          ]
        },
        {
          "name": "stderr",
          "output_type": "stream",
          "text": [
            "100%|██████████| 844/844 [04:59<00:00,  2.82it/s, loss=0.00899, val_loss=0.0229, acc=0.993, val_acc=0.993]\n"
          ]
        },
        {
          "name": "stdout",
          "output_type": "stream",
          "text": [
            "epoch=74: "
          ]
        },
        {
          "name": "stderr",
          "output_type": "stream",
          "text": [
            "100%|██████████| 844/844 [04:58<00:00,  2.83it/s, loss=0.00899, val_loss=0.0229, acc=0.993, val_acc=0.993]\n"
          ]
        },
        {
          "name": "stdout",
          "output_type": "stream",
          "text": [
            "epoch=75: "
          ]
        },
        {
          "name": "stderr",
          "output_type": "stream",
          "text": [
            "100%|██████████| 844/844 [04:56<00:00,  2.84it/s, loss=0.00899, val_loss=0.0229, acc=0.993, val_acc=0.993]\n"
          ]
        },
        {
          "name": "stdout",
          "output_type": "stream",
          "text": [
            "epoch=76: "
          ]
        },
        {
          "name": "stderr",
          "output_type": "stream",
          "text": [
            "100%|██████████| 844/844 [04:55<00:00,  2.85it/s, loss=0.00899, val_loss=0.0229, acc=0.993, val_acc=0.993]\n"
          ]
        },
        {
          "name": "stdout",
          "output_type": "stream",
          "text": [
            "epoch=77: "
          ]
        },
        {
          "name": "stderr",
          "output_type": "stream",
          "text": [
            "100%|██████████| 844/844 [04:57<00:00,  2.84it/s, loss=0.00899, val_loss=0.0229, acc=0.993, val_acc=0.993]\n"
          ]
        },
        {
          "name": "stdout",
          "output_type": "stream",
          "text": [
            "epoch=78: "
          ]
        },
        {
          "name": "stderr",
          "output_type": "stream",
          "text": [
            "100%|██████████| 844/844 [04:59<00:00,  2.82it/s, loss=0.00899, val_loss=0.0229, acc=0.993, val_acc=0.993]\n"
          ]
        },
        {
          "name": "stdout",
          "output_type": "stream",
          "text": [
            "epoch=79: "
          ]
        },
        {
          "name": "stderr",
          "output_type": "stream",
          "text": [
            "100%|██████████| 844/844 [05:03<00:00,  2.78it/s, loss=0.00899, val_loss=0.0229, acc=0.993, val_acc=0.993]\n"
          ]
        },
        {
          "name": "stdout",
          "output_type": "stream",
          "text": [
            "epoch=80: "
          ]
        },
        {
          "name": "stderr",
          "output_type": "stream",
          "text": [
            "100%|██████████| 844/844 [04:54<00:00,  2.87it/s, loss=0.00899, val_loss=0.0229, acc=0.993, val_acc=0.993]\n"
          ]
        },
        {
          "data": {
            "image/png": "[encoded data removed]",
            "text/plain": [
              "<Figure size 432x288 with 1 Axes>"
            ]
          },
          "metadata": {},
          "output_type": "display_data"
        },
        {
          "name": "stdout",
          "output_type": "stream",
          "text": [
            "epoch=81: "
          ]
        },
        {
          "name": "stderr",
          "output_type": "stream",
          "text": [
            "100%|██████████| 844/844 [04:52<00:00,  2.89it/s, loss=0.00899, val_loss=0.0229, acc=0.993, val_acc=0.993]\n"
          ]
        },
        {
          "name": "stdout",
          "output_type": "stream",
          "text": [
            "epoch=82: "
          ]
        },
        {
          "name": "stderr",
          "output_type": "stream",
          "text": [
            "100%|██████████| 844/844 [04:51<00:00,  2.89it/s, loss=0.00899, val_loss=0.0229, acc=0.993, val_acc=0.993]\n"
          ]
        },
        {
          "name": "stdout",
          "output_type": "stream",
          "text": [
            "epoch=83: "
          ]
        },
        {
          "name": "stderr",
          "output_type": "stream",
          "text": [
            "100%|██████████| 844/844 [04:52<00:00,  2.89it/s, loss=0.00899, val_loss=0.0229, acc=0.993, val_acc=0.993]\n"
          ]
        },
        {
          "name": "stdout",
          "output_type": "stream",
          "text": [
            "epoch=84: "
          ]
        },
        {
          "name": "stderr",
          "output_type": "stream",
          "text": [
            "100%|██████████| 844/844 [04:52<00:00,  2.89it/s, loss=0.00899, val_loss=0.0229, acc=0.993, val_acc=0.993]\n"
          ]
        },
        {
          "name": "stdout",
          "output_type": "stream",
          "text": [
            "epoch=85: "
          ]
        },
        {
          "name": "stderr",
          "output_type": "stream",
          "text": [
            "100%|██████████| 844/844 [04:51<00:00,  2.89it/s, loss=0.00899, val_loss=0.0229, acc=0.993, val_acc=0.993]\n"
          ]
        },
        {
          "name": "stdout",
          "output_type": "stream",
          "text": [
            "epoch=86: "
          ]
        },
        {
          "name": "stderr",
          "output_type": "stream",
          "text": [
            "100%|██████████| 844/844 [04:52<00:00,  2.88it/s, loss=0.00899, val_loss=0.0229, acc=0.993, val_acc=0.993]\n"
          ]
        },
        {
          "name": "stdout",
          "output_type": "stream",
          "text": [
            "epoch=87: "
          ]
        },
        {
          "name": "stderr",
          "output_type": "stream",
          "text": [
            "100%|██████████| 844/844 [04:54<00:00,  2.87it/s, loss=0.00899, val_loss=0.0229, acc=0.993, val_acc=0.993]\n"
          ]
        },
        {
          "name": "stdout",
          "output_type": "stream",
          "text": [
            "epoch=88: "
          ]
        },
        {
          "name": "stderr",
          "output_type": "stream",
          "text": [
            "100%|██████████| 844/844 [04:54<00:00,  2.87it/s, loss=0.00899, val_loss=0.0229, acc=0.993, val_acc=0.993]\n"
          ]
        },
        {
          "name": "stdout",
          "output_type": "stream",
          "text": [
            "epoch=89: "
          ]
        },
        {
          "name": "stderr",
          "output_type": "stream",
          "text": [
            "100%|██████████| 844/844 [04:52<00:00,  2.89it/s, loss=0.00899, val_loss=0.0229, acc=0.993, val_acc=0.993]\n"
          ]
        },
        {
          "name": "stdout",
          "output_type": "stream",
          "text": [
            "epoch=90: "
          ]
        },
        {
          "name": "stderr",
          "output_type": "stream",
          "text": [
            "100%|██████████| 844/844 [04:50<00:00,  2.90it/s, loss=0.00899, val_loss=0.0229, acc=0.993, val_acc=0.993]\n"
          ]
        },
        {
          "data": {
            "image/png": "[encoded data removed]",
            "text/plain": [
              "<Figure size 432x288 with 1 Axes>"
            ]
          },
          "metadata": {},
          "output_type": "display_data"
        },
        {
          "name": "stdout",
          "output_type": "stream",
          "text": [
            "epoch=91: "
          ]
        },
        {
          "name": "stderr",
          "output_type": "stream",
          "text": [
            "100%|██████████| 844/844 [04:51<00:00,  2.89it/s, loss=0.00899, val_loss=0.0229, acc=0.993, val_acc=0.993]\n"
          ]
        },
        {
          "name": "stdout",
          "output_type": "stream",
          "text": [
            "epoch=92: "
          ]
        },
        {
          "name": "stderr",
          "output_type": "stream",
          "text": [
            "100%|██████████| 844/844 [04:56<00:00,  2.85it/s, loss=0.00899, val_loss=0.0229, acc=0.993, val_acc=0.993]\n"
          ]
        },
        {
          "name": "stdout",
          "output_type": "stream",
          "text": [
            "epoch=93: "
          ]
        },
        {
          "name": "stderr",
          "output_type": "stream",
          "text": [
            "100%|██████████| 844/844 [04:55<00:00,  2.86it/s, loss=0.00899, val_loss=0.0229, acc=0.993, val_acc=0.993]\n"
          ]
        },
        {
          "name": "stdout",
          "output_type": "stream",
          "text": [
            "epoch=94: "
          ]
        },
        {
          "name": "stderr",
          "output_type": "stream",
          "text": [
            "100%|██████████| 844/844 [04:55<00:00,  2.85it/s, loss=0.00899, val_loss=0.0229, acc=0.993, val_acc=0.993]\n"
          ]
        },
        {
          "name": "stdout",
          "output_type": "stream",
          "text": [
            "epoch=95: "
          ]
        },
        {
          "name": "stderr",
          "output_type": "stream",
          "text": [
            "100%|██████████| 844/844 [04:52<00:00,  2.88it/s, loss=0.00899, val_loss=0.0229, acc=0.993, val_acc=0.993]\n"
          ]
        },
        {
          "name": "stdout",
          "output_type": "stream",
          "text": [
            "epoch=96: "
          ]
        },
        {
          "name": "stderr",
          "output_type": "stream",
          "text": [
            " 36%|███▌      | 305/844 [01:44<03:31,  2.54it/s, loss=0.0363, val_loss=0.00434, acc=0.967, val_acc=0.867]"
          ]
        }
      ],
      "source": [
        "epochs = 100\n",
        "batch_size = 16\n",
        "fs=42\n",
        "wdl = 1e-5\n",
        "num=5\n",
        "x,t=create_img(X_train,y_train,num)\n",
        "model = build_model(fs,wdl)\n",
        "history =  model.fit(model,x,t,epochs,batch_size,X_test,y_test)\n",
        "test_acc =model.accuracy(X_test,y_test)\n",
        "print('accuracy={}'.format(test_acc))"
      ]
    },
    {
      "cell_type": "code",
      "execution_count": null,
      "metadata": {
        "id": "anCqUo_gdicU"
      },
      "outputs": [],
      "source": [
        "def objective(trial):\n",
        "    epochs = 30\n",
        "    batch_size = trial.suggest_int('bs',8,48,step=8)\n",
        "    fs = trial.suggest_int('fs',8,24,step=4)\n",
        "    wdl=trial.suggest_loguniform('wdl',5e-5,3e-4)\n",
        "    dr=trial.suggest_float('dr',0.35,0.55)\n",
        "    num=6\n",
        "    print(batch_size)\n",
        "    print(fs)\n",
        "    print(wdl)\n",
        "    print(dr)\n",
        "  #モデルを作成\n",
        "    x,t=create_img(X_train,y_train,num)\n",
        "    model = build_model(fs,wdl,dr)\n",
        "    history = model.fit(model,x,t,epochs,batch_size,X_test,y_test)\n",
        "    train_acc =model.accuracy(x,t)\n",
        "    print('accuracy={}'.format(train_acc))\n",
        "    # lossとaccuracyのグラフ化\n",
        "    df_log = pd.DataFrame(history)\n",
        "    df_log.plot(style=['r-', 'r--', 'b-', 'b--'])\n",
        "    plt.ylim([0,1.5])\n",
        "    plt.ylabel(\"Accuracy or loss\")\n",
        "    plt.xlabel(\"epochs\")\n",
        "    plt.show()\n",
        "\n",
        "    #検証用データに対する正答率が最大となるハイパーパラメータを求める\n",
        "    return history['val_acc'][-1]\n",
        "\n",
        "study = optuna.create_study(direction='maximize')\n",
        "study.optimize(objective, n_trials=50)"
      ]
    },
    {
      "cell_type": "code",
      "execution_count": null,
      "metadata": {
        "id": "GO5REHak7Nnz"
      },
      "outputs": [],
      "source": [
        "    # lossとaccuracyのグラフ化\n",
        "    df_log = pd.DataFrame(history)\n",
        "    df_log.plot(style=['r-', 'r--', 'b-', 'b--'])\n",
        "    plt.ylim([0,4])\n",
        "    plt.ylabel(\"Accuracy or loss\")\n",
        "    plt.xlabel(\"epochs\")\n",
        "    plt.show()"
      ]
    },
    {
      "cell_type": "code",
      "execution_count": null,
      "metadata": {
        "id": "ofgkYsKAC29L"
      },
      "outputs": [],
      "source": [
        "with open(\"katakana_model.pickle\", \"wb\") as f:\n",
        "    pickle.dump(tnet, f)"
      ]
    }
  ],
  "metadata": {
    "accelerator": "TPU",
    "colab": {
      "collapsed_sections": [],
      "name": "VGG(4)_(1).ipynb",
      "provenance": [],
      "include_colab_link": true
    },
    "kernelspec": {
      "display_name": "Python 3",
      "language": "python",
      "name": "python3"
    },
    "language_info": {
      "codemirror_mode": {
        "name": "ipython",
        "version": 3
      },
      "file_extension": ".py",
      "mimetype": "text/x-python",
      "name": "python",
      "nbconvert_exporter": "python",
      "pygments_lexer": "ipython3",
      "version": "3.7.3"
    }
  },
  "nbformat": 4,
  "nbformat_minor": 0
}