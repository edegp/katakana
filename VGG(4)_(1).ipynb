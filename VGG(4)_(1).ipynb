{
  "cells": [
    {
      "cell_type": "markdown",
      "metadata": {
        "id": "view-in-github",
        "colab_type": "text"
      },
      "source": [
        "<a href=\"https://colab.research.google.com/github/edegp/katakana/blob/main/VGG(4)_(1).ipynb\" target=\"_parent\"><img src=\"https://colab.research.google.com/assets/colab-badge.svg\" alt=\"Open In Colab\"/></a>"
      ]
    },
    {
      "cell_type": "code",
      "execution_count": 2,
      "metadata": {
        "colab": {
          "base_uri": "https://localhost:8080/"
        },
        "id": "3Tf1yy5YE2Bn",
        "outputId": "6a835539-d9ff-4f65-ea0d-935cae0b7538"
      },
      "outputs": [
        {
          "output_type": "stream",
          "name": "stdout",
          "text": [
            "Mounted at /content/drive\n"
          ]
        }
      ],
      "source": [
        "from google.colab import drive\n",
        "drive.mount('/content/drive')\n",
        "import sys\n",
        "ROOT_PATH = '/content/drive/My Drive/Colab Notebooks/'\n",
        "sys.path.append(ROOT_PATH)\n",
        "import common"
      ]
    },
    {
      "cell_type": "code",
      "execution_count": 3,
      "metadata": {
        "id": "Wb93lDnFC288"
      },
      "outputs": [],
      "source": [
        "from PIL import Image\n",
        "import numpy as np\n",
        "import matplotlib.pyplot as plt\n",
        "from keras.preprocessing.image import ImageDataGenerator\n",
        "from tqdm import tqdm\n",
        "from sklearn.model_selection import train_test_split\n",
        "import pandas as pd\n",
        "from common.loss import mean_squared_error\n",
        "from common.multi_layer_net_extend import MultiLayerNetExtend\n",
        "from collections import OrderedDict\n",
        "from common.layers import Convolution,MaxPooling, ReLU, Affine, LogSoftmaxWithLoss,BatchNormalization,Dropout\n",
        "from common.optimizer import RMSProp,Adadelta,Adam\n",
        "from common.pruning import *"
      ]
    },
    {
      "cell_type": "code",
      "execution_count": 4,
      "metadata": {
        "colab": {
          "base_uri": "https://localhost:8080/"
        },
        "id": "wfQLfhjvdhVs",
        "outputId": "e0699a42-52e2-4b15-fc21-a78052f8d1ec"
      },
      "outputs": [
        {
          "output_type": "stream",
          "name": "stdout",
          "text": [
            "Looking in indexes: https://pypi.org/simple, https://us-python.pkg.dev/colab-wheels/public/simple/\n",
            "Collecting optuna\n",
            "  Downloading optuna-2.10.1-py3-none-any.whl (308 kB)\n",
            "\u001b[K     |████████████████████████████████| 308 kB 5.5 MB/s \n",
            "\u001b[?25hCollecting cliff\n",
            "  Downloading cliff-3.10.1-py3-none-any.whl (81 kB)\n",
            "\u001b[K     |████████████████████████████████| 81 kB 9.5 MB/s \n",
            "\u001b[?25hRequirement already satisfied: sqlalchemy>=1.1.0 in /usr/local/lib/python3.7/dist-packages (from optuna) (1.4.40)\n",
            "Requirement already satisfied: scipy!=1.4.0 in /usr/local/lib/python3.7/dist-packages (from optuna) (1.7.3)\n",
            "Collecting cmaes>=0.8.2\n",
            "  Downloading cmaes-0.8.2-py3-none-any.whl (15 kB)\n",
            "Requirement already satisfied: numpy in /usr/local/lib/python3.7/dist-packages (from optuna) (1.21.6)\n",
            "Requirement already satisfied: tqdm in /usr/local/lib/python3.7/dist-packages (from optuna) (4.64.0)\n",
            "Collecting colorlog\n",
            "  Downloading colorlog-6.6.0-py2.py3-none-any.whl (11 kB)\n",
            "Requirement already satisfied: PyYAML in /usr/local/lib/python3.7/dist-packages (from optuna) (6.0)\n",
            "Collecting alembic\n",
            "  Downloading alembic-1.8.1-py3-none-any.whl (209 kB)\n",
            "\u001b[K     |████████████████████████████████| 209 kB 57.5 MB/s \n",
            "\u001b[?25hRequirement already satisfied: packaging>=20.0 in /usr/local/lib/python3.7/dist-packages (from optuna) (21.3)\n",
            "Requirement already satisfied: pyparsing!=3.0.5,>=2.0.2 in /usr/local/lib/python3.7/dist-packages (from packaging>=20.0->optuna) (3.0.9)\n",
            "Requirement already satisfied: importlib-metadata in /usr/local/lib/python3.7/dist-packages (from sqlalchemy>=1.1.0->optuna) (4.12.0)\n",
            "Requirement already satisfied: greenlet!=0.4.17 in /usr/local/lib/python3.7/dist-packages (from sqlalchemy>=1.1.0->optuna) (1.1.2)\n",
            "Collecting Mako\n",
            "  Downloading Mako-1.2.1-py3-none-any.whl (78 kB)\n",
            "\u001b[K     |████████████████████████████████| 78 kB 7.2 MB/s \n",
            "\u001b[?25hRequirement already satisfied: importlib-resources in /usr/local/lib/python3.7/dist-packages (from alembic->optuna) (5.9.0)\n",
            "Collecting stevedore>=2.0.1\n",
            "  Downloading stevedore-3.5.0-py3-none-any.whl (49 kB)\n",
            "\u001b[K     |████████████████████████████████| 49 kB 5.0 MB/s \n",
            "\u001b[?25hRequirement already satisfied: PrettyTable>=0.7.2 in /usr/local/lib/python3.7/dist-packages (from cliff->optuna) (3.3.0)\n",
            "Collecting pbr!=2.1.0,>=2.0.0\n",
            "  Downloading pbr-5.10.0-py2.py3-none-any.whl (112 kB)\n",
            "\u001b[K     |████████████████████████████████| 112 kB 58.2 MB/s \n",
            "\u001b[?25hCollecting autopage>=0.4.0\n",
            "  Downloading autopage-0.5.1-py3-none-any.whl (29 kB)\n",
            "Collecting cmd2>=1.0.0\n",
            "  Downloading cmd2-2.4.2-py3-none-any.whl (147 kB)\n",
            "\u001b[K     |████████████████████████████████| 147 kB 48.2 MB/s \n",
            "\u001b[?25hRequirement already satisfied: wcwidth>=0.1.7 in /usr/local/lib/python3.7/dist-packages (from cmd2>=1.0.0->cliff->optuna) (0.2.5)\n",
            "Requirement already satisfied: attrs>=16.3.0 in /usr/local/lib/python3.7/dist-packages (from cmd2>=1.0.0->cliff->optuna) (22.1.0)\n",
            "Collecting pyperclip>=1.6\n",
            "  Downloading pyperclip-1.8.2.tar.gz (20 kB)\n",
            "Requirement already satisfied: typing-extensions in /usr/local/lib/python3.7/dist-packages (from cmd2>=1.0.0->cliff->optuna) (4.1.1)\n",
            "Requirement already satisfied: zipp>=0.5 in /usr/local/lib/python3.7/dist-packages (from importlib-metadata->sqlalchemy>=1.1.0->optuna) (3.8.1)\n",
            "Requirement already satisfied: MarkupSafe>=0.9.2 in /usr/local/lib/python3.7/dist-packages (from Mako->alembic->optuna) (2.0.1)\n",
            "Building wheels for collected packages: pyperclip\n",
            "  Building wheel for pyperclip (setup.py) ... \u001b[?25l\u001b[?25hdone\n",
            "  Created wheel for pyperclip: filename=pyperclip-1.8.2-py3-none-any.whl size=11137 sha256=45d83f989313fa90c4e0366a274226678a49463a0e418de5b0e7a6e73fc5c7cf\n",
            "  Stored in directory: /root/.cache/pip/wheels/9f/18/84/8f69f8b08169c7bae2dde6bd7daf0c19fca8c8e500ee620a28\n",
            "Successfully built pyperclip\n",
            "Installing collected packages: pyperclip, pbr, stevedore, Mako, cmd2, autopage, colorlog, cmaes, cliff, alembic, optuna\n",
            "Successfully installed Mako-1.2.1 alembic-1.8.1 autopage-0.5.1 cliff-3.10.1 cmaes-0.8.2 cmd2-2.4.2 colorlog-6.6.0 optuna-2.10.1 pbr-5.10.0 pyperclip-1.8.2 stevedore-3.5.0\n"
          ]
        }
      ],
      "source": [
        "!pip install optuna\n",
        "import optuna"
      ]
    },
    {
      "cell_type": "code",
      "execution_count": 5,
      "metadata": {
        "id": "J0ZbKR-aT_5m"
      },
      "outputs": [],
      "source": [
        "def he(n):\n",
        "    \"\"\"\n",
        "    Heの初期値を利用するための関数\n",
        "    返り値は、見かけの標準偏差\n",
        "    \"\"\"    \n",
        "    return np.sqrt(2/n)"
      ]
    },
    {
      "cell_type": "code",
      "execution_count": 6,
      "metadata": {
        "id": "FBeM6AeBUlP5"
      },
      "outputs": [],
      "source": [
        "def xavier(n1, n2):\n",
        "    \"\"\"\n",
        "    Xavierの初期値を利用するための関数\n",
        "    返り値は、見かけの標準偏差\n",
        "    \"\"\"\n",
        "    return np.sqrt(2/(n1+n2))   "
      ]
    },
    {
      "cell_type": "code",
      "execution_count": 7,
      "metadata": {
        "id": "-DyzYdq2C29A"
      },
      "outputs": [],
      "source": [
        "def images_gen(data,label,datagen,num):\n",
        "    datas = [];\n",
        "    labels = [];\n",
        "    data = data.transpose(0,2,3,1)\n",
        "    for data,label in zip(data,label):\n",
        "        data = data.reshape((1,) + data.shape)\n",
        "        batch_list=[]\n",
        "        i = 0\n",
        "        g = datagen.flow(data, batch_size=1)\n",
        "        for i in range(num):\n",
        "          batchs = g.next()\n",
        "          batchs=batchs.reshape((28, 28, 1)).transpose(2,0,1)\n",
        "          datas.append(batchs)\n",
        "          labels.append(label)\n",
        "    train_data=np.array(datas)\n",
        "    train_label=np.array(labels)\n",
        "    for l in [train_data, train_label]:\n",
        "      np.random.seed(1)\n",
        "      np.random.shuffle(l) \n",
        "    return train_data,train_label            \n"
      ]
    },
    {
      "cell_type": "code",
      "execution_count": 8,
      "metadata": {
        "id": "35Dxldz7L-zF"
      },
      "outputs": [],
      "source": [
        "def create_img(X_train,y_train,num):\n",
        "      # ImageDataGeneratorのオブジェクト生成\n",
        "    datagen = ImageDataGenerator(\n",
        "            rotation_range=20,\n",
        "            width_shift_range=0.2,\n",
        "            height_shift_range=0.2,\n",
        "            zoom_range=0.3,\n",
        "            shear_range=15\n",
        "            )\n",
        "    X_train,y_train=images_gen(X_train,y_train,datagen,num)\n",
        "    print(X_train.shape)\n",
        "    print(y_train.shape)\n",
        "\n",
        "    x = X_train\n",
        "    t = y_train\n",
        "\n",
        "    x = x.reshape(-1,1,28,28) # 配列形式の変形\n",
        "\n",
        "    return x,t\n"
      ]
    },
    {
      "cell_type": "code",
      "execution_count": 9,
      "metadata": {
        "id": "8OOvrt_l5qPi"
      },
      "outputs": [],
      "source": [
        "class GlobalAveragePooling2D:\n",
        "    def __init__(self, GlobalPooling2D='channels_last'):\n",
        "        self.data_format = GlobalPooling2D\n",
        "\n",
        "    def forward(self, x):\n",
        "        self.x = x\n",
        "        out = x.mean(axis= (2, 3))\n",
        "        return out\n",
        "\n",
        "    def backward(self, dout):\n",
        "        xs = self.x.shape\n",
        "        n = xs[2] * xs[3]\n",
        "        dx = np.empty((xs))\n",
        "        for i in range(xs[0]):\n",
        "          dx[i]=np.tile(dout[i] / n,(n)).reshape([xs[1],xs[2],xs[3]],order='F')\n",
        "        return dx"
      ]
    },
    {
      "cell_type": "code",
      "execution_count": 10,
      "metadata": {
        "id": "1Iy6bCIHC29C"
      },
      "outputs": [],
      "source": [
        "data = np.load(\"drive/My Drive/Colab Notebooks/test/train_data.npy\")  # パスは適宜変更すること\n",
        "label = np.load(\"drive/My Drive/Colab Notebooks/test/train_label.npy\")  # パスは適宜変更すること\n",
        "# 正規化\n",
        "data = (data - data.min()) / data.max()\n",
        "data = data.astype('float32')\n",
        "X_train, X_test,y_train,y_test = train_test_split(data,label, test_size=0.15, random_state=12)"
      ]
    },
    {
      "cell_type": "code",
      "execution_count": 11,
      "metadata": {
        "id": "dr2Eein1C29G"
      },
      "outputs": [],
      "source": [
        "class SimpleConvNet:\n",
        "    def __init__(self, input_dim=(1, 28, 28),\n",
        "                 param=[[32,3,0,1],[64,3,0,1]],\n",
        "                 pool_param=[[2,0,2],[2,0,2]],\n",
        "                output_size=15, \n",
        "                 weight_decay_lambda=1e-5,\n",
        "                 ):\n",
        "        self.weight_decay_lambda = weight_decay_lambda\n",
        "\n",
        "        self.params = {}\n",
        "        #一層目\n",
        "        self.params['W1'] = he(input_dim[0]) * np.random.randn(param[0][0], input_dim[0], param[0][1], param[0][1]) \n",
        "        self.params['b1'] = np.zeros(param[0][0])\n",
        "        self.params['gamma2'] = np.ones(param[0][0])\n",
        "        self.params['beta2'] = np.zeros(param[0][0])\n",
        "\n",
        "        # 二層目\n",
        "        self.params['W2'] = he(param[0][0]) * np.random.randn(param[0][0], param[0][0], param[0][1], param[0][1]) \n",
        "        self.params['b2'] = np.zeros(param[0][0])\n",
        "        \n",
        "        #三層目\n",
        "        self.params['W3'] = he(param[0][0])  * np.random.randn(param[1][0], param[0][0], param[1][1], param[1][1]) \n",
        "        self.params['b3'] = np.zeros(param[1][0])\n",
        "        \n",
        "        self.params['W4'] = he(param[1][0]) * np.random.randn(param[1][0], param[1][0], param[1][1], param[1][1])\n",
        "        self.params['b4'] = np.zeros(param[1][0])\n",
        "        self.params['gamma4'] = np.ones(param[1][0])\n",
        "        self.params['beta4'] = np.zeros(param[1][0])\n",
        "\n",
        "        # アフィン\n",
        "        self.params['W6'] = xavier(param[1][0], output_size) *  np.random.randn(param[1][0], output_size)\n",
        "        self.params['b6'] = np.zeros(output_size)\n",
        "\n",
        "        # レイヤの生成\n",
        "        self.layers = OrderedDict()\n",
        "        self.layers['Conv1'] = Convolution(self.params['W1'], self.params['b1'],param[0][3], param[0][2]) \n",
        "        self.layers['batch2'] = BatchNormalization(self.params['gamma2'],self.params['beta2'])\n",
        "        self.layers['ReLU1'] = ReLU()\n",
        "        self.layers['Conv2'] = Convolution(self.params['W2'], self.params['b2'],param[0][3], param[0][2]) \n",
        "        self.layers['ReLU2'] = ReLU()\n",
        "        self.layers['Pool1'] = MaxPooling(pool_h=pool_param[0][0], pool_w=pool_param[0][0], stride=pool_param[0][2], pad=pool_param[0][1])\n",
        "\n",
        "        self.layers['Conv3'] = Convolution(self.params['W3'], self.params['b3'],param[1][3], param[1][2]) \n",
        "        self.layers['ReLU3'] = ReLU()\n",
        "        self.layers['Conv4'] = Convolution(self.params['W4'], self.params['b4'],param[1][3], param[1][2]) \n",
        "        self.layers['batch4'] = BatchNormalization(self.params['gamma4'],self.params['beta4'])\n",
        "        self.layers['ReLU4'] = ReLU()\n",
        "        self.layers['Pool2'] = MaxPooling(pool_h=pool_param[1][0], pool_w=pool_param[1][0], stride=pool_param[1][2], pad=pool_param[1][1])\n",
        "        self.layers['GAP'] = GlobalAveragePooling2D()\n",
        "        self.layers['Affine2'] = Affine(self.params['W6'], self.params['b6'])\n",
        "        self.last_layer = LogSoftmaxWithLoss()\n",
        "\n",
        "    def predict(self, x):\n",
        "        for layer in self.layers.values():\n",
        "            x = layer.forward(x)\n",
        "\n",
        "        return x\n",
        "\n",
        "    def loss(self, x, t):\n",
        "        y = self.predict(x)\n",
        "        lmd = self.weight_decay_lambda\n",
        "        \n",
        "        weight_decay = 0\n",
        "        weights = ['W1','W2','W3','W4','W6']\n",
        "        for w in weights:\n",
        "            W = self.params[w]\n",
        "            weight_decay += 0.5 * lmd * np.sum(W**2)\n",
        "\n",
        "        return self.last_layer.forward(y, t)+ weight_decay\n",
        "\n",
        "    def accuracy(self, x, t, batch_size=25):\n",
        "        if t.ndim != 1 : t = np.argmax(t, axis=1)\n",
        "        \n",
        "        acc = 0.0\n",
        "        \n",
        "        for i in range(int(x.shape[0] / batch_size)):\n",
        "            tx = x[i*batch_size:(i+1)*batch_size]\n",
        "            tt = t[i*batch_size:(i+1)*batch_size]\n",
        "            y = self.predict(tx)\n",
        "            y = np.argmax(y, axis=1)\n",
        "            acc += np.sum(y == tt) \n",
        "        \n",
        "        return acc / x.shape[0]\n",
        "\n",
        "    def gradient(self, x, t):\n",
        "        self.loss(x, t)\n",
        "        dout = 1\n",
        "        dout = self.last_layer.backward(dout)\n",
        "\n",
        "        layers = list(self.layers.values())\n",
        "        layers.reverse()\n",
        "        for layer in layers:\n",
        "            dout = layer.backward(dout)\n",
        "        lmd = self.weight_decay_lambda\n",
        "        grads = {}\n",
        "        grads['W1'], grads['b1'] = self.layers['Conv1'].dW + lmd * self.layers['Conv1'].dW, self.layers['Conv1'].db\n",
        "        grads['W2'], grads['b2'] = self.layers['Conv2'].dW + lmd * self.layers['Conv2'].dW, self.layers['Conv2'].db\n",
        "        grads['gamma2'], grads['beta2'] = self.layers['batch2'].dgamma, self.layers['batch2'].dbeta\n",
        "        grads['W3'], grads['b3'] = self.layers['Conv3'].dW + lmd * self.layers['Conv3'].dW, self.layers['Conv3'].db\n",
        "        grads['W4'], grads['b4'] = self.layers['Conv4'].dW + lmd * self.layers['Conv4'].dW, self.layers['Conv4'].db\n",
        "        grads['gamma4'], grads['beta4'] = self.layers['batch4'].dgamma, self.layers['batch4'].dbeta\n",
        "        grads['W6'], grads['b6'] = self.layers['Affine2'].dW + lmd * self.layers['Affine2'].dW, self.layers['Affine2'].db\n",
        "\n",
        "        return grads\n",
        "    def condition(self,num,x,t,X_test,y_test):\n",
        "        loss=self.loss(x[:num,:], t[:num,:])\n",
        "        val_loss=self.loss(X_test[:num,:], y_test[:num,:])\n",
        "        acc=self.accuracy(x[:num,:], t[:num,:],num//10)\n",
        "        val_acc=self.accuracy(X_test[:num,:], y_test[:num,:],num//10)\n",
        "        return loss,val_loss,acc,val_acc\n",
        "    def fit(self,model,x,t,epochs,batch_size,test,test_labels):\n",
        "        train_loss = []\n",
        "        test_loss = []\n",
        "        train_accuracy = []\n",
        "        test_accuracy = []\n",
        "        xsize = x.shape[0]\n",
        "        iter_num = np.ceil(xsize / batch_size).astype(np.int64)\n",
        "        for epoch in range(epochs):\n",
        "          print(\"epoch=%s\"%epoch, end=': ')\n",
        "          idx = np.arange(xsize)\n",
        "          np.random.shuffle(idx)\n",
        "          optimizer = Adadelta()\n",
        "          pbar=tqdm(range(iter_num))\n",
        "          for it in pbar:\n",
        "            mask = idx[batch_size*it : batch_size*(it+1)]\n",
        "            # ミニバッチの生成\n",
        "            x_train = x[mask]\n",
        "            t_train = t[mask]\n",
        "            grads = self.gradient(x_train, t_train)\n",
        "            optimizer.update(self.params, grads)\n",
        "            if it % 100 == 0:\n",
        "              condition = self.condition(30,x,t,X_train,y_train)\n",
        "            elif it == len(pbar)-1:\n",
        "              condition = self.condition(300,x,t,X_train,y_train)\n",
        "              train_loss.append(condition[0])\n",
        "              test_loss.append(condition[1])\n",
        "              train_accuracy.append(condition[2])\n",
        "              test_accuracy.append(condition[3])\n",
        "            pbar.set_postfix(OrderedDict(loss=condition[0],val_loss=condition[1], acc=condition[2],val_acc=condition[3]))\n",
        "            if epoch==50:\n",
        "              pruning_rate = 0.2\n",
        "              masks = create_model_mask(self.params,pruning_rate)\n",
        "              self.weight_decay_lambda=1e-7\n",
        "            if 50 < epoch < 55: prune_weight(self.params, masks)\n",
        "            if epoch == 80:\n",
        "              pruning_rate = 0.4\n",
        "              masks = create_model_mask(self.params,pruning_rate)\n",
        "              self.weight_decay_lambda=0\n",
        "            if 80 < epoch < 85: prune_weight(self.params, masks)\n",
        "          history = {'val_loss': test_loss,\n",
        "                    'val_acc': test_accuracy,\n",
        "                    'loss': train_loss,\n",
        "                    'acc': train_accuracy}\n",
        "\n",
        "          if epoch % 10 == 0 and not epoch == 0:           \n",
        "            df_log = pd.DataFrame(history)\n",
        "            df_log.plot(style=['r-', 'r--', 'b-', 'b--'])\n",
        "            plt.ylim([0,1.05])\n",
        "            plt.ylabel(\"Accuracy or loss\")\n",
        "            plt.xlabel(\"epochs\")\n",
        "            plt.show()\n",
        "\n",
        "        return history"
      ]
    },
    {
      "cell_type": "code",
      "execution_count": 12,
      "metadata": {
        "id": "U7waJJSSC29I"
      },
      "outputs": [],
      "source": [
        "def build_model(fs,wdl):\n",
        "    model = SimpleConvNet(input_dim=(1, 28, 28), \n",
        "                        param=[[fs,3,0,1],[fs*2,3,0,1]],\n",
        "                        pool_param=[[2,0,2],[2,0,2]],\n",
        "                        output_size=15,\n",
        "                        weight_decay_lambda=wdl\n",
        "                        )\n",
        "    return model"
      ]
    },
    {
      "cell_type": "code",
      "execution_count": 13,
      "metadata": {
        "id": "anCqUo_gdicU",
        "outputId": "0758e72e-bb40-4e05-bf67-95ad45347156",
        "colab": {
          "base_uri": "https://localhost:8080/",
          "height": 1000
        }
      },
      "outputs": [
        {
          "metadata": {
            "tags": null
          },
          "name": "stderr",
          "output_type": "stream",
          "text": [
            "\u001b[32m[I 2022-08-23 12:20:34,938]\u001b[0m A new study created in memory with name: no-name-8c7ec7ee-f189-44b6-b558-1d3189fdd0b4\u001b[0m\n"
          ]
        },
        {
          "metadata": {
            "tags": null
          },
          "name": "stdout",
          "output_type": "stream",
          "text": [
            "8\n",
            "32\n",
            "7.894265773019396e-06\n",
            "(5100, 1, 28, 28)\n",
            "(5100, 15)\n",
            "epoch=0: "
          ]
        },
        {
          "metadata": {
            "tags": null
          },
          "name": "stderr",
          "output_type": "stream",
          "text": [
            "100%|██████████| 638/638 [01:36<00:00,  6.58it/s, loss=1.39, val_loss=0.815, acc=0.53, val_acc=0.797]\n"
          ]
        },
        {
          "metadata": {
            "tags": null
          },
          "name": "stdout",
          "output_type": "stream",
          "text": [
            "epoch=1: "
          ]
        },
        {
          "metadata": {
            "tags": null
          },
          "name": "stderr",
          "output_type": "stream",
          "text": [
            "100%|██████████| 638/638 [01:27<00:00,  7.26it/s, loss=1.01, val_loss=0.478, acc=0.653, val_acc=0.857]\n"
          ]
        },
        {
          "metadata": {
            "tags": null
          },
          "name": "stdout",
          "output_type": "stream",
          "text": [
            "epoch=2: "
          ]
        },
        {
          "metadata": {
            "tags": null
          },
          "name": "stderr",
          "output_type": "stream",
          "text": [
            "100%|██████████| 638/638 [01:26<00:00,  7.42it/s, loss=0.836, val_loss=0.369, acc=0.69, val_acc=0.91]\n"
          ]
        },
        {
          "metadata": {
            "tags": null
          },
          "name": "stdout",
          "output_type": "stream",
          "text": [
            "epoch=3: "
          ]
        },
        {
          "metadata": {
            "tags": null
          },
          "name": "stderr",
          "output_type": "stream",
          "text": [
            "100%|██████████| 638/638 [01:24<00:00,  7.53it/s, loss=0.667, val_loss=0.238, acc=0.743, val_acc=0.95]\n"
          ]
        },
        {
          "metadata": {
            "tags": null
          },
          "name": "stdout",
          "output_type": "stream",
          "text": [
            "epoch=4: "
          ]
        },
        {
          "metadata": {
            "tags": null
          },
          "name": "stderr",
          "output_type": "stream",
          "text": [
            "100%|██████████| 638/638 [01:27<00:00,  7.33it/s, loss=0.609, val_loss=0.207, acc=0.777, val_acc=0.943]\n"
          ]
        },
        {
          "metadata": {
            "tags": null
          },
          "name": "stdout",
          "output_type": "stream",
          "text": [
            "epoch=5: "
          ]
        },
        {
          "metadata": {
            "tags": null
          },
          "name": "stderr",
          "output_type": "stream",
          "text": [
            "100%|██████████| 638/638 [01:25<00:00,  7.45it/s, loss=0.596, val_loss=0.198, acc=0.793, val_acc=0.953]\n"
          ]
        },
        {
          "metadata": {
            "tags": null
          },
          "name": "stdout",
          "output_type": "stream",
          "text": [
            "epoch=6: "
          ]
        },
        {
          "metadata": {
            "tags": null
          },
          "name": "stderr",
          "output_type": "stream",
          "text": [
            "100%|██████████| 638/638 [01:25<00:00,  7.43it/s, loss=0.466, val_loss=0.191, acc=0.833, val_acc=0.943]\n"
          ]
        },
        {
          "metadata": {
            "tags": null
          },
          "name": "stdout",
          "output_type": "stream",
          "text": [
            "epoch=7: "
          ]
        },
        {
          "metadata": {
            "tags": null
          },
          "name": "stderr",
          "output_type": "stream",
          "text": [
            "100%|██████████| 638/638 [01:27<00:00,  7.33it/s, loss=0.469, val_loss=0.174, acc=0.837, val_acc=0.963]\n"
          ]
        },
        {
          "metadata": {
            "tags": null
          },
          "name": "stdout",
          "output_type": "stream",
          "text": [
            "epoch=8: "
          ]
        },
        {
          "metadata": {
            "tags": null
          },
          "name": "stderr",
          "output_type": "stream",
          "text": [
            "100%|██████████| 638/638 [01:27<00:00,  7.28it/s, loss=0.428, val_loss=0.171, acc=0.857, val_acc=0.943]\n"
          ]
        },
        {
          "metadata": {
            "tags": null
          },
          "name": "stdout",
          "output_type": "stream",
          "text": [
            "epoch=9: "
          ]
        },
        {
          "metadata": {
            "tags": null
          },
          "name": "stderr",
          "output_type": "stream",
          "text": [
            "100%|██████████| 638/638 [01:26<00:00,  7.35it/s, loss=0.358, val_loss=0.131, acc=0.887, val_acc=0.957]\n"
          ]
        },
        {
          "metadata": {
            "tags": null
          },
          "name": "stdout",
          "output_type": "stream",
          "text": [
            "epoch=10: "
          ]
        },
        {
          "metadata": {
            "tags": null
          },
          "name": "stderr",
          "output_type": "stream",
          "text": [
            "100%|██████████| 638/638 [01:26<00:00,  7.41it/s, loss=0.362, val_loss=0.15, acc=0.873, val_acc=0.95]\n"
          ]
        },
        {
          "data": {
            "image/png": "[encoded data removed]",
            "text/plain": [
              "<Figure size 432x288 with 1 Axes>"
            ]
          },
          "metadata": {},
          "output_type": "display_data"
        },
        {
          "metadata": {
            "tags": null
          },
          "name": "stdout",
          "output_type": "stream",
          "text": [
            "epoch=11: "
          ]
        },
        {
          "metadata": {
            "tags": null
          },
          "name": "stderr",
          "output_type": "stream",
          "text": [
            "100%|██████████| 638/638 [01:26<00:00,  7.34it/s, loss=0.271, val_loss=0.129, acc=0.897, val_acc=0.957]\n"
          ]
        },
        {
          "metadata": {
            "tags": null
          },
          "name": "stdout",
          "output_type": "stream",
          "text": [
            "epoch=12: "
          ]
        },
        {
          "metadata": {
            "tags": null
          },
          "name": "stderr",
          "output_type": "stream",
          "text": [
            "100%|██████████| 638/638 [01:26<00:00,  7.34it/s, loss=0.26, val_loss=0.131, acc=0.91, val_acc=0.947]\n"
          ]
        },
        {
          "metadata": {
            "tags": null
          },
          "name": "stdout",
          "output_type": "stream",
          "text": [
            "epoch=13: "
          ]
        },
        {
          "metadata": {
            "tags": null
          },
          "name": "stderr",
          "output_type": "stream",
          "text": [
            "100%|██████████| 638/638 [01:26<00:00,  7.39it/s, loss=0.226, val_loss=0.121, acc=0.923, val_acc=0.97]\n"
          ]
        },
        {
          "metadata": {
            "tags": null
          },
          "name": "stdout",
          "output_type": "stream",
          "text": [
            "epoch=14: "
          ]
        },
        {
          "metadata": {
            "tags": null
          },
          "name": "stderr",
          "output_type": "stream",
          "text": [
            "100%|██████████| 638/638 [01:26<00:00,  7.39it/s, loss=0.227, val_loss=0.119, acc=0.913, val_acc=0.97]\n"
          ]
        },
        {
          "metadata": {
            "tags": null
          },
          "name": "stdout",
          "output_type": "stream",
          "text": [
            "epoch=15: "
          ]
        },
        {
          "metadata": {
            "tags": null
          },
          "name": "stderr",
          "output_type": "stream",
          "text": [
            "100%|██████████| 638/638 [01:27<00:00,  7.30it/s, loss=0.222, val_loss=0.134, acc=0.91, val_acc=0.963]\n"
          ]
        },
        {
          "metadata": {
            "tags": null
          },
          "name": "stdout",
          "output_type": "stream",
          "text": [
            "epoch=16: "
          ]
        },
        {
          "metadata": {
            "tags": null
          },
          "name": "stderr",
          "output_type": "stream",
          "text": [
            "100%|██████████| 638/638 [01:26<00:00,  7.41it/s, loss=0.205, val_loss=0.131, acc=0.93, val_acc=0.967]\n"
          ]
        },
        {
          "metadata": {
            "tags": null
          },
          "name": "stdout",
          "output_type": "stream",
          "text": [
            "epoch=17: "
          ]
        },
        {
          "metadata": {
            "tags": null
          },
          "name": "stderr",
          "output_type": "stream",
          "text": [
            "100%|██████████| 638/638 [01:26<00:00,  7.39it/s, loss=0.163, val_loss=0.116, acc=0.957, val_acc=0.973]\n"
          ]
        },
        {
          "metadata": {
            "tags": null
          },
          "name": "stdout",
          "output_type": "stream",
          "text": [
            "epoch=18: "
          ]
        },
        {
          "metadata": {
            "tags": null
          },
          "name": "stderr",
          "output_type": "stream",
          "text": [
            "100%|██████████| 638/638 [01:25<00:00,  7.44it/s, loss=0.156, val_loss=0.138, acc=0.943, val_acc=0.957]\n"
          ]
        },
        {
          "metadata": {
            "tags": null
          },
          "name": "stdout",
          "output_type": "stream",
          "text": [
            "epoch=19: "
          ]
        },
        {
          "metadata": {
            "tags": null
          },
          "name": "stderr",
          "output_type": "stream",
          "text": [
            "100%|██████████| 638/638 [01:26<00:00,  7.37it/s, loss=0.17, val_loss=0.107, acc=0.95, val_acc=0.967]\n"
          ]
        },
        {
          "metadata": {
            "tags": null
          },
          "name": "stdout",
          "output_type": "stream",
          "text": [
            "epoch=20: "
          ]
        },
        {
          "metadata": {
            "tags": null
          },
          "name": "stderr",
          "output_type": "stream",
          "text": [
            "100%|██████████| 638/638 [01:26<00:00,  7.40it/s, loss=0.169, val_loss=0.122, acc=0.953, val_acc=0.97]\n"
          ]
        },
        {
          "data": {
            "image/png": "[encoded data removed]",
            "text/plain": [
              "<Figure size 432x288 with 1 Axes>"
            ]
          },
          "metadata": {},
          "output_type": "display_data"
        },
        {
          "metadata": {
            "tags": null
          },
          "name": "stdout",
          "output_type": "stream",
          "text": [
            "epoch=21: "
          ]
        },
        {
          "metadata": {
            "tags": null
          },
          "name": "stderr",
          "output_type": "stream",
          "text": [
            "100%|██████████| 638/638 [01:26<00:00,  7.36it/s, loss=0.132, val_loss=0.126, acc=0.957, val_acc=0.97]\n"
          ]
        },
        {
          "metadata": {
            "tags": null
          },
          "name": "stdout",
          "output_type": "stream",
          "text": [
            "epoch=22: "
          ]
        },
        {
          "metadata": {
            "tags": null
          },
          "name": "stderr",
          "output_type": "stream",
          "text": [
            "100%|██████████| 638/638 [01:25<00:00,  7.49it/s, loss=0.11, val_loss=0.116, acc=0.977, val_acc=0.973]\n"
          ]
        },
        {
          "metadata": {
            "tags": null
          },
          "name": "stdout",
          "output_type": "stream",
          "text": [
            "epoch=23: "
          ]
        },
        {
          "metadata": {
            "tags": null
          },
          "name": "stderr",
          "output_type": "stream",
          "text": [
            "100%|██████████| 638/638 [01:26<00:00,  7.35it/s, loss=0.118, val_loss=0.147, acc=0.967, val_acc=0.96]\n"
          ]
        },
        {
          "metadata": {
            "tags": null
          },
          "name": "stdout",
          "output_type": "stream",
          "text": [
            "epoch=24: "
          ]
        },
        {
          "output_type": "stream",
          "name": "stderr",
          "text": [
            "100%|██████████| 638/638 [01:29<00:00,  7.17it/s, loss=0.147, val_loss=0.132, acc=0.957, val_acc=0.967]\n"
          ]
        },
        {
          "output_type": "stream",
          "name": "stdout",
          "text": [
            "epoch=25: "
          ]
        },
        {
          "output_type": "stream",
          "name": "stderr",
          "text": [
            "100%|██████████| 638/638 [01:32<00:00,  6.87it/s, loss=0.109, val_loss=0.131, acc=0.973, val_acc=0.963]\n"
          ]
        },
        {
          "output_type": "stream",
          "name": "stdout",
          "text": [
            "epoch=26: "
          ]
        },
        {
          "output_type": "stream",
          "name": "stderr",
          "text": [
            "100%|██████████| 638/638 [01:31<00:00,  6.94it/s, loss=0.121, val_loss=0.136, acc=0.97, val_acc=0.96]\n"
          ]
        },
        {
          "output_type": "stream",
          "name": "stdout",
          "text": [
            "epoch=27: "
          ]
        },
        {
          "output_type": "stream",
          "name": "stderr",
          "text": [
            "100%|██████████| 638/638 [01:34<00:00,  6.78it/s, loss=0.116, val_loss=0.188, acc=0.973, val_acc=0.94]\n"
          ]
        },
        {
          "output_type": "stream",
          "name": "stdout",
          "text": [
            "epoch=28: "
          ]
        },
        {
          "output_type": "stream",
          "name": "stderr",
          "text": [
            "100%|██████████| 638/638 [01:32<00:00,  6.93it/s, loss=0.0966, val_loss=0.145, acc=0.99, val_acc=0.967]\n"
          ]
        },
        {
          "output_type": "stream",
          "name": "stdout",
          "text": [
            "epoch=29: "
          ]
        },
        {
          "output_type": "stream",
          "name": "stderr",
          "text": [
            "100%|██████████| 638/638 [01:31<00:00,  6.95it/s, loss=0.0775, val_loss=0.137, acc=0.987, val_acc=0.957]\n"
          ]
        },
        {
          "output_type": "stream",
          "name": "stdout",
          "text": [
            "accuracy=0.9849019607843137\n"
          ]
        },
        {
          "output_type": "display_data",
          "data": {
            "text/plain": [
              "<Figure size 432x288 with 1 Axes>"
            ],
            "image/png": "[encoded data removed]"
          },
          "metadata": {
            "needs_background": "light"
          }
        },
        {
          "output_type": "stream",
          "name": "stderr",
          "text": [
            "\u001b[32m[I 2022-08-23 13:05:02,901]\u001b[0m Trial 0 finished with value: 0.07748191759823211 and parameters: {'bs': 8, 'fs': 32, 'wdl': 7.894265773019396e-06}. Best is trial 0 with value: 0.07748191759823211.\u001b[0m\n"
          ]
        },
        {
          "output_type": "stream",
          "name": "stdout",
          "text": [
            "24\n",
            "16\n",
            "1.8157573644888738e-05\n",
            "(5100, 1, 28, 28)\n",
            "(5100, 15)\n",
            "epoch=0: "
          ]
        },
        {
          "output_type": "stream",
          "name": "stderr",
          "text": [
            "100%|██████████| 213/213 [00:41<00:00,  5.09it/s, loss=2.06, val_loss=1.68, acc=0.363, val_acc=0.58]\n"
          ]
        },
        {
          "output_type": "stream",
          "name": "stdout",
          "text": [
            "epoch=1: "
          ]
        },
        {
          "output_type": "stream",
          "name": "stderr",
          "text": [
            "100%|██████████| 213/213 [00:41<00:00,  5.12it/s, loss=1.76, val_loss=1.19, acc=0.44, val_acc=0.777]\n"
          ]
        },
        {
          "output_type": "stream",
          "name": "stdout",
          "text": [
            "epoch=2: "
          ]
        },
        {
          "output_type": "stream",
          "name": "stderr",
          "text": [
            "100%|██████████| 213/213 [00:44<00:00,  4.82it/s, loss=1.49, val_loss=0.871, acc=0.533, val_acc=0.827]\n"
          ]
        },
        {
          "output_type": "stream",
          "name": "stdout",
          "text": [
            "epoch=3: "
          ]
        },
        {
          "output_type": "stream",
          "name": "stderr",
          "text": [
            "100%|██████████| 213/213 [00:42<00:00,  5.05it/s, loss=1.28, val_loss=0.706, acc=0.597, val_acc=0.843]\n"
          ]
        },
        {
          "output_type": "stream",
          "name": "stdout",
          "text": [
            "epoch=4: "
          ]
        },
        {
          "output_type": "stream",
          "name": "stderr",
          "text": [
            "100%|██████████| 213/213 [00:41<00:00,  5.11it/s, loss=1.14, val_loss=0.557, acc=0.633, val_acc=0.883]\n"
          ]
        },
        {
          "output_type": "stream",
          "name": "stdout",
          "text": [
            "epoch=5: "
          ]
        },
        {
          "output_type": "stream",
          "name": "stderr",
          "text": [
            "100%|██████████| 213/213 [00:41<00:00,  5.09it/s, loss=1.03, val_loss=0.479, acc=0.68, val_acc=0.887]\n"
          ]
        },
        {
          "output_type": "stream",
          "name": "stdout",
          "text": [
            "epoch=6: "
          ]
        },
        {
          "output_type": "stream",
          "name": "stderr",
          "text": [
            "100%|██████████| 213/213 [00:41<00:00,  5.11it/s, loss=0.905, val_loss=0.396, acc=0.747, val_acc=0.893]\n"
          ]
        },
        {
          "output_type": "stream",
          "name": "stdout",
          "text": [
            "epoch=7: "
          ]
        },
        {
          "output_type": "stream",
          "name": "stderr",
          "text": [
            "100%|██████████| 213/213 [00:41<00:00,  5.08it/s, loss=0.811, val_loss=0.388, acc=0.74, val_acc=0.893]\n"
          ]
        },
        {
          "output_type": "stream",
          "name": "stdout",
          "text": [
            "epoch=8: "
          ]
        },
        {
          "output_type": "stream",
          "name": "stderr",
          "text": [
            "100%|██████████| 213/213 [00:41<00:00,  5.08it/s, loss=0.771, val_loss=0.334, acc=0.777, val_acc=0.91]\n"
          ]
        },
        {
          "output_type": "stream",
          "name": "stdout",
          "text": [
            "epoch=9: "
          ]
        },
        {
          "output_type": "stream",
          "name": "stderr",
          "text": [
            "100%|██████████| 213/213 [00:41<00:00,  5.16it/s, loss=0.7, val_loss=0.297, acc=0.79, val_acc=0.927]\n"
          ]
        },
        {
          "output_type": "stream",
          "name": "stdout",
          "text": [
            "epoch=10: "
          ]
        },
        {
          "output_type": "stream",
          "name": "stderr",
          "text": [
            "100%|██████████| 213/213 [00:40<00:00,  5.28it/s, loss=0.668, val_loss=0.296, acc=0.777, val_acc=0.92]\n"
          ]
        },
        {
          "output_type": "display_data",
          "data": {
            "text/plain": [
              "<Figure size 432x288 with 1 Axes>"
            ],
            "image/png": "[encoded data removed]"
          },
          "metadata": {
            "needs_background": "light"
          }
        },
        {
          "output_type": "stream",
          "name": "stdout",
          "text": [
            "epoch=11: "
          ]
        },
        {
          "output_type": "stream",
          "name": "stderr",
          "text": [
            "100%|██████████| 213/213 [00:41<00:00,  5.13it/s, loss=0.654, val_loss=0.277, acc=0.793, val_acc=0.907]\n"
          ]
        },
        {
          "output_type": "stream",
          "name": "stdout",
          "text": [
            "epoch=12: "
          ]
        },
        {
          "output_type": "stream",
          "name": "stderr",
          "text": [
            "100%|██████████| 213/213 [00:41<00:00,  5.15it/s, loss=0.596, val_loss=0.248, acc=0.787, val_acc=0.933]\n"
          ]
        },
        {
          "output_type": "stream",
          "name": "stdout",
          "text": [
            "epoch=13: "
          ]
        },
        {
          "output_type": "stream",
          "name": "stderr",
          "text": [
            "100%|██████████| 213/213 [00:41<00:00,  5.18it/s, loss=0.572, val_loss=0.27, acc=0.817, val_acc=0.91]\n"
          ]
        },
        {
          "output_type": "stream",
          "name": "stdout",
          "text": [
            "epoch=14: "
          ]
        },
        {
          "output_type": "stream",
          "name": "stderr",
          "text": [
            "100%|██████████| 213/213 [00:41<00:00,  5.14it/s, loss=0.511, val_loss=0.256, acc=0.843, val_acc=0.927]\n"
          ]
        },
        {
          "output_type": "stream",
          "name": "stdout",
          "text": [
            "epoch=15: "
          ]
        },
        {
          "output_type": "stream",
          "name": "stderr",
          "text": [
            "100%|██████████| 213/213 [00:40<00:00,  5.21it/s, loss=0.47, val_loss=0.238, acc=0.843, val_acc=0.923]\n"
          ]
        },
        {
          "output_type": "stream",
          "name": "stdout",
          "text": [
            "epoch=16: "
          ]
        },
        {
          "output_type": "stream",
          "name": "stderr",
          "text": [
            "100%|██████████| 213/213 [00:40<00:00,  5.22it/s, loss=0.5, val_loss=0.246, acc=0.82, val_acc=0.917]\n"
          ]
        },
        {
          "output_type": "stream",
          "name": "stdout",
          "text": [
            "epoch=17: "
          ]
        },
        {
          "output_type": "stream",
          "name": "stderr",
          "text": [
            "100%|██████████| 213/213 [00:41<00:00,  5.19it/s, loss=0.412, val_loss=0.199, acc=0.86, val_acc=0.943]\n"
          ]
        },
        {
          "output_type": "stream",
          "name": "stdout",
          "text": [
            "epoch=18: "
          ]
        },
        {
          "output_type": "stream",
          "name": "stderr",
          "text": [
            "100%|██████████| 213/213 [00:41<00:00,  5.19it/s, loss=0.43, val_loss=0.221, acc=0.853, val_acc=0.927]\n"
          ]
        },
        {
          "output_type": "stream",
          "name": "stdout",
          "text": [
            "epoch=19: "
          ]
        },
        {
          "output_type": "stream",
          "name": "stderr",
          "text": [
            "100%|██████████| 213/213 [00:41<00:00,  5.18it/s, loss=0.419, val_loss=0.217, acc=0.857, val_acc=0.94]\n"
          ]
        },
        {
          "output_type": "stream",
          "name": "stdout",
          "text": [
            "epoch=20: "
          ]
        },
        {
          "output_type": "stream",
          "name": "stderr",
          "text": [
            "100%|██████████| 213/213 [00:41<00:00,  5.13it/s, loss=0.376, val_loss=0.203, acc=0.857, val_acc=0.933]\n"
          ]
        },
        {
          "output_type": "display_data",
          "data": {
            "text/plain": [
              "<Figure size 432x288 with 1 Axes>"
            ],
            "image/png": "[encoded data removed]"
          },
          "metadata": {
            "needs_background": "light"
          }
        },
        {
          "output_type": "stream",
          "name": "stdout",
          "text": [
            "epoch=21: "
          ]
        },
        {
          "output_type": "stream",
          "name": "stderr",
          "text": [
            "100%|██████████| 213/213 [00:41<00:00,  5.19it/s, loss=0.328, val_loss=0.188, acc=0.87, val_acc=0.953]\n"
          ]
        },
        {
          "output_type": "stream",
          "name": "stdout",
          "text": [
            "epoch=22: "
          ]
        },
        {
          "output_type": "stream",
          "name": "stderr",
          "text": [
            "100%|██████████| 213/213 [00:41<00:00,  5.15it/s, loss=0.346, val_loss=0.189, acc=0.87, val_acc=0.94]\n"
          ]
        },
        {
          "output_type": "stream",
          "name": "stdout",
          "text": [
            "epoch=23: "
          ]
        },
        {
          "output_type": "stream",
          "name": "stderr",
          "text": [
            "100%|██████████| 213/213 [00:40<00:00,  5.21it/s, loss=0.333, val_loss=0.17, acc=0.893, val_acc=0.953]\n"
          ]
        },
        {
          "output_type": "stream",
          "name": "stdout",
          "text": [
            "epoch=24: "
          ]
        },
        {
          "output_type": "stream",
          "name": "stderr",
          "text": [
            "100%|██████████| 213/213 [00:41<00:00,  5.16it/s, loss=0.315, val_loss=0.195, acc=0.887, val_acc=0.93]\n"
          ]
        },
        {
          "output_type": "stream",
          "name": "stdout",
          "text": [
            "epoch=25: "
          ]
        },
        {
          "output_type": "stream",
          "name": "stderr",
          "text": [
            "100%|██████████| 213/213 [00:41<00:00,  5.13it/s, loss=0.292, val_loss=0.174, acc=0.88, val_acc=0.95]\n"
          ]
        },
        {
          "output_type": "stream",
          "name": "stdout",
          "text": [
            "epoch=26: "
          ]
        },
        {
          "output_type": "stream",
          "name": "stderr",
          "text": [
            "100%|██████████| 213/213 [00:41<00:00,  5.10it/s, loss=0.294, val_loss=0.169, acc=0.893, val_acc=0.947]\n"
          ]
        },
        {
          "output_type": "stream",
          "name": "stdout",
          "text": [
            "epoch=27: "
          ]
        },
        {
          "output_type": "stream",
          "name": "stderr",
          "text": [
            "100%|██████████| 213/213 [00:41<00:00,  5.17it/s, loss=0.254, val_loss=0.178, acc=0.913, val_acc=0.943]\n"
          ]
        },
        {
          "output_type": "stream",
          "name": "stdout",
          "text": [
            "epoch=28: "
          ]
        },
        {
          "output_type": "stream",
          "name": "stderr",
          "text": [
            "100%|██████████| 213/213 [00:41<00:00,  5.16it/s, loss=0.249, val_loss=0.175, acc=0.907, val_acc=0.943]\n"
          ]
        },
        {
          "output_type": "stream",
          "name": "stdout",
          "text": [
            "epoch=29: "
          ]
        },
        {
          "output_type": "stream",
          "name": "stderr",
          "text": [
            "100%|██████████| 213/213 [00:41<00:00,  5.18it/s, loss=0.254, val_loss=0.158, acc=0.897, val_acc=0.937]\n"
          ]
        },
        {
          "output_type": "stream",
          "name": "stdout",
          "text": [
            "accuracy=0.8970588235294118\n"
          ]
        },
        {
          "output_type": "display_data",
          "data": {
            "text/plain": [
              "<Figure size 432x288 with 1 Axes>"
            ],
            "image/png": "[encoded data removed]"
          },
          "metadata": {
            "needs_background": "light"
          }
        },
        {
          "output_type": "stream",
          "name": "stderr",
          "text": [
            "\u001b[32m[I 2022-08-23 13:26:04,288]\u001b[0m Trial 1 finished with value: 0.2542671336348184 and parameters: {'bs': 24, 'fs': 16, 'wdl': 1.8157573644888738e-05}. Best is trial 0 with value: 0.07748191759823211.\u001b[0m\n"
          ]
        },
        {
          "output_type": "stream",
          "name": "stdout",
          "text": [
            "8\n",
            "32\n",
            "8.755821953031085e-06\n",
            "(5100, 1, 28, 28)\n",
            "(5100, 15)\n",
            "epoch=0: "
          ]
        },
        {
          "output_type": "stream",
          "name": "stderr",
          "text": [
            "100%|██████████| 638/638 [01:34<00:00,  6.76it/s, loss=1.29, val_loss=0.829, acc=0.583, val_acc=0.77]\n"
          ]
        },
        {
          "output_type": "stream",
          "name": "stdout",
          "text": [
            "epoch=1: "
          ]
        },
        {
          "output_type": "stream",
          "name": "stderr",
          "text": [
            "100%|██████████| 638/638 [01:37<00:00,  6.57it/s, loss=0.869, val_loss=0.422, acc=0.72, val_acc=0.9]\n"
          ]
        },
        {
          "output_type": "stream",
          "name": "stdout",
          "text": [
            "epoch=2: "
          ]
        },
        {
          "output_type": "stream",
          "name": "stderr",
          "text": [
            "100%|██████████| 638/638 [01:35<00:00,  6.69it/s, loss=0.672, val_loss=0.312, acc=0.757, val_acc=0.913]\n"
          ]
        },
        {
          "output_type": "stream",
          "name": "stdout",
          "text": [
            "epoch=3: "
          ]
        },
        {
          "output_type": "stream",
          "name": "stderr",
          "text": [
            "100%|██████████| 638/638 [01:35<00:00,  6.66it/s, loss=0.57, val_loss=0.265, acc=0.79, val_acc=0.917]\n"
          ]
        },
        {
          "output_type": "stream",
          "name": "stdout",
          "text": [
            "epoch=4: "
          ]
        },
        {
          "output_type": "stream",
          "name": "stderr",
          "text": [
            "100%|██████████| 638/638 [01:35<00:00,  6.70it/s, loss=0.45, val_loss=0.193, acc=0.857, val_acc=0.963]\n"
          ]
        },
        {
          "output_type": "stream",
          "name": "stdout",
          "text": [
            "epoch=5: "
          ]
        },
        {
          "output_type": "stream",
          "name": "stderr",
          "text": [
            "100%|██████████| 638/638 [01:35<00:00,  6.69it/s, loss=0.434, val_loss=0.174, acc=0.833, val_acc=0.94]\n"
          ]
        },
        {
          "output_type": "stream",
          "name": "stdout",
          "text": [
            "epoch=6: "
          ]
        },
        {
          "output_type": "stream",
          "name": "stderr",
          "text": [
            "100%|██████████| 638/638 [01:35<00:00,  6.71it/s, loss=0.419, val_loss=0.164, acc=0.84, val_acc=0.95]\n"
          ]
        },
        {
          "output_type": "stream",
          "name": "stdout",
          "text": [
            "epoch=7: "
          ]
        },
        {
          "output_type": "stream",
          "name": "stderr",
          "text": [
            "100%|██████████| 638/638 [01:35<00:00,  6.66it/s, loss=0.347, val_loss=0.145, acc=0.887, val_acc=0.96]\n"
          ]
        },
        {
          "output_type": "stream",
          "name": "stdout",
          "text": [
            "epoch=8: "
          ]
        },
        {
          "output_type": "stream",
          "name": "stderr",
          "text": [
            "100%|██████████| 638/638 [01:35<00:00,  6.70it/s, loss=0.313, val_loss=0.162, acc=0.887, val_acc=0.96]\n"
          ]
        },
        {
          "output_type": "stream",
          "name": "stdout",
          "text": [
            "epoch=9: "
          ]
        },
        {
          "output_type": "stream",
          "name": "stderr",
          "text": [
            "100%|██████████| 638/638 [01:35<00:00,  6.65it/s, loss=0.318, val_loss=0.151, acc=0.89, val_acc=0.947]\n"
          ]
        },
        {
          "output_type": "stream",
          "name": "stdout",
          "text": [
            "epoch=10: "
          ]
        },
        {
          "output_type": "stream",
          "name": "stderr",
          "text": [
            "100%|██████████| 638/638 [01:35<00:00,  6.71it/s, loss=0.27, val_loss=0.128, acc=0.91, val_acc=0.96]\n"
          ]
        },
        {
          "output_type": "display_data",
          "data": {
            "text/plain": [
              "<Figure size 432x288 with 1 Axes>"
            ],
            "image/png": "[encoded data removed]"
          },
          "metadata": {
            "needs_background": "light"
          }
        },
        {
          "output_type": "stream",
          "name": "stdout",
          "text": [
            "epoch=11: "
          ]
        },
        {
          "output_type": "stream",
          "name": "stderr",
          "text": [
            "100%|██████████| 638/638 [01:35<00:00,  6.70it/s, loss=0.259, val_loss=0.11, acc=0.91, val_acc=0.977]\n"
          ]
        },
        {
          "output_type": "stream",
          "name": "stdout",
          "text": [
            "epoch=12: "
          ]
        },
        {
          "output_type": "stream",
          "name": "stderr",
          "text": [
            "100%|██████████| 638/638 [01:34<00:00,  6.74it/s, loss=0.243, val_loss=0.116, acc=0.897, val_acc=0.97]\n"
          ]
        },
        {
          "output_type": "stream",
          "name": "stdout",
          "text": [
            "epoch=13: "
          ]
        },
        {
          "output_type": "stream",
          "name": "stderr",
          "text": [
            "100%|██████████| 638/638 [01:34<00:00,  6.74it/s, loss=0.217, val_loss=0.123, acc=0.923, val_acc=0.963]\n"
          ]
        },
        {
          "output_type": "stream",
          "name": "stdout",
          "text": [
            "epoch=14: "
          ]
        },
        {
          "output_type": "stream",
          "name": "stderr",
          "text": [
            "100%|██████████| 638/638 [01:35<00:00,  6.71it/s, loss=0.23, val_loss=0.101, acc=0.92, val_acc=0.977]\n"
          ]
        },
        {
          "output_type": "stream",
          "name": "stdout",
          "text": [
            "epoch=15: "
          ]
        },
        {
          "output_type": "stream",
          "name": "stderr",
          "text": [
            "100%|██████████| 638/638 [01:35<00:00,  6.68it/s, loss=0.186, val_loss=0.135, acc=0.937, val_acc=0.967]\n"
          ]
        },
        {
          "output_type": "stream",
          "name": "stdout",
          "text": [
            "epoch=16: "
          ]
        },
        {
          "output_type": "stream",
          "name": "stderr",
          "text": [
            "100%|██████████| 638/638 [01:36<00:00,  6.63it/s, loss=0.207, val_loss=0.129, acc=0.92, val_acc=0.957]\n"
          ]
        },
        {
          "output_type": "stream",
          "name": "stdout",
          "text": [
            "epoch=17: "
          ]
        },
        {
          "output_type": "stream",
          "name": "stderr",
          "text": [
            "100%|██████████| 638/638 [01:36<00:00,  6.64it/s, loss=0.153, val_loss=0.106, acc=0.953, val_acc=0.98]\n"
          ]
        },
        {
          "output_type": "stream",
          "name": "stdout",
          "text": [
            "epoch=18: "
          ]
        },
        {
          "output_type": "stream",
          "name": "stderr",
          "text": [
            "100%|██████████| 638/638 [01:34<00:00,  6.73it/s, loss=0.188, val_loss=0.135, acc=0.937, val_acc=0.97]\n"
          ]
        },
        {
          "output_type": "stream",
          "name": "stdout",
          "text": [
            "epoch=19: "
          ]
        },
        {
          "output_type": "stream",
          "name": "stderr",
          "text": [
            "100%|██████████| 638/638 [01:35<00:00,  6.71it/s, loss=0.135, val_loss=0.117, acc=0.957, val_acc=0.97]\n"
          ]
        },
        {
          "output_type": "stream",
          "name": "stdout",
          "text": [
            "epoch=20: "
          ]
        },
        {
          "output_type": "stream",
          "name": "stderr",
          "text": [
            "100%|██████████| 638/638 [01:35<00:00,  6.66it/s, loss=0.151, val_loss=0.111, acc=0.953, val_acc=0.973]\n"
          ]
        },
        {
          "output_type": "display_data",
          "data": {
            "text/plain": [
              "<Figure size 432x288 with 1 Axes>"
            ],
            "image/png": "[encoded data removed]"
          },
          "metadata": {
            "needs_background": "light"
          }
        },
        {
          "output_type": "stream",
          "name": "stdout",
          "text": [
            "epoch=21: "
          ]
        },
        {
          "output_type": "stream",
          "name": "stderr",
          "text": [
            "100%|██████████| 638/638 [01:35<00:00,  6.67it/s, loss=0.132, val_loss=0.115, acc=0.97, val_acc=0.97]\n"
          ]
        },
        {
          "output_type": "stream",
          "name": "stdout",
          "text": [
            "epoch=22: "
          ]
        },
        {
          "output_type": "stream",
          "name": "stderr",
          "text": [
            "100%|██████████| 638/638 [01:36<00:00,  6.64it/s, loss=0.138, val_loss=0.0958, acc=0.97, val_acc=0.967]\n"
          ]
        },
        {
          "output_type": "stream",
          "name": "stdout",
          "text": [
            "epoch=23: "
          ]
        },
        {
          "output_type": "stream",
          "name": "stderr",
          "text": [
            "100%|██████████| 638/638 [01:35<00:00,  6.68it/s, loss=0.119, val_loss=0.112, acc=0.977, val_acc=0.97]\n"
          ]
        },
        {
          "output_type": "stream",
          "name": "stdout",
          "text": [
            "epoch=24: "
          ]
        },
        {
          "output_type": "stream",
          "name": "stderr",
          "text": [
            "100%|██████████| 638/638 [01:36<00:00,  6.62it/s, loss=0.139, val_loss=0.111, acc=0.96, val_acc=0.973]\n"
          ]
        },
        {
          "output_type": "stream",
          "name": "stdout",
          "text": [
            "epoch=25: "
          ]
        },
        {
          "output_type": "stream",
          "name": "stderr",
          "text": [
            "100%|██████████| 638/638 [01:35<00:00,  6.66it/s, loss=0.133, val_loss=0.111, acc=0.957, val_acc=0.97]\n"
          ]
        },
        {
          "output_type": "stream",
          "name": "stdout",
          "text": [
            "epoch=26: "
          ]
        },
        {
          "output_type": "stream",
          "name": "stderr",
          "text": [
            "100%|██████████| 638/638 [01:35<00:00,  6.71it/s, loss=0.125, val_loss=0.11, acc=0.967, val_acc=0.967]\n"
          ]
        },
        {
          "output_type": "stream",
          "name": "stdout",
          "text": [
            "epoch=27: "
          ]
        },
        {
          "output_type": "stream",
          "name": "stderr",
          "text": [
            "100%|██████████| 638/638 [01:36<00:00,  6.62it/s, loss=0.12, val_loss=0.138, acc=0.973, val_acc=0.967]\n"
          ]
        },
        {
          "output_type": "stream",
          "name": "stdout",
          "text": [
            "epoch=28: "
          ]
        },
        {
          "output_type": "stream",
          "name": "stderr",
          "text": [
            "100%|██████████| 638/638 [01:36<00:00,  6.61it/s, loss=0.105, val_loss=0.123, acc=0.977, val_acc=0.967]\n"
          ]
        },
        {
          "output_type": "stream",
          "name": "stdout",
          "text": [
            "epoch=29: "
          ]
        },
        {
          "output_type": "stream",
          "name": "stderr",
          "text": [
            "100%|██████████| 638/638 [01:36<00:00,  6.58it/s, loss=0.0981, val_loss=0.101, acc=0.983, val_acc=0.98]\n"
          ]
        },
        {
          "output_type": "stream",
          "name": "stdout",
          "text": [
            "accuracy=0.98\n"
          ]
        },
        {
          "output_type": "display_data",
          "data": {
            "text/plain": [
              "<Figure size 432x288 with 1 Axes>"
            ],
            "image/png": "[encoded data removed]"
          },
          "metadata": {
            "needs_background": "light"
          }
        },
        {
          "output_type": "stream",
          "name": "stderr",
          "text": [
            "\u001b[32m[I 2022-08-23 14:14:23,296]\u001b[0m Trial 2 finished with value: 0.09806743491464773 and parameters: {'bs': 8, 'fs': 32, 'wdl': 8.755821953031085e-06}. Best is trial 0 with value: 0.07748191759823211.\u001b[0m\n"
          ]
        },
        {
          "output_type": "stream",
          "name": "stdout",
          "text": [
            "16\n",
            "16\n",
            "3.871546576009465e-05\n",
            "(5100, 1, 28, 28)\n",
            "(5100, 15)\n",
            "epoch=0: "
          ]
        },
        {
          "output_type": "stream",
          "name": "stderr",
          "text": [
            "100%|██████████| 319/319 [00:46<00:00,  6.90it/s, loss=1.98, val_loss=1.55, acc=0.4, val_acc=0.62]\n"
          ]
        },
        {
          "output_type": "stream",
          "name": "stdout",
          "text": [
            "epoch=1: "
          ]
        },
        {
          "output_type": "stream",
          "name": "stderr",
          "text": [
            "100%|██████████| 319/319 [00:46<00:00,  6.83it/s, loss=1.66, val_loss=1.05, acc=0.473, val_acc=0.79]\n"
          ]
        },
        {
          "output_type": "stream",
          "name": "stdout",
          "text": [
            "epoch=2: "
          ]
        },
        {
          "output_type": "stream",
          "name": "stderr",
          "text": [
            "100%|██████████| 319/319 [00:45<00:00,  6.95it/s, loss=1.36, val_loss=0.735, acc=0.583, val_acc=0.847]\n"
          ]
        },
        {
          "output_type": "stream",
          "name": "stdout",
          "text": [
            "epoch=3: "
          ]
        },
        {
          "output_type": "stream",
          "name": "stderr",
          "text": [
            "100%|██████████| 319/319 [00:45<00:00,  7.00it/s, loss=1.16, val_loss=0.573, acc=0.647, val_acc=0.873]\n"
          ]
        },
        {
          "output_type": "stream",
          "name": "stdout",
          "text": [
            "epoch=4: "
          ]
        },
        {
          "output_type": "stream",
          "name": "stderr",
          "text": [
            "100%|██████████| 319/319 [00:45<00:00,  7.00it/s, loss=1.03, val_loss=0.458, acc=0.71, val_acc=0.9]\n"
          ]
        },
        {
          "output_type": "stream",
          "name": "stdout",
          "text": [
            "epoch=5: "
          ]
        },
        {
          "output_type": "stream",
          "name": "stderr",
          "text": [
            "100%|██████████| 319/319 [00:46<00:00,  6.87it/s, loss=0.913, val_loss=0.413, acc=0.737, val_acc=0.883]\n"
          ]
        },
        {
          "output_type": "stream",
          "name": "stdout",
          "text": [
            "epoch=6: "
          ]
        },
        {
          "output_type": "stream",
          "name": "stderr",
          "text": [
            "100%|██████████| 319/319 [00:46<00:00,  6.92it/s, loss=0.81, val_loss=0.335, acc=0.767, val_acc=0.923]\n"
          ]
        },
        {
          "output_type": "stream",
          "name": "stdout",
          "text": [
            "epoch=7: "
          ]
        },
        {
          "output_type": "stream",
          "name": "stderr",
          "text": [
            "100%|██████████| 319/319 [00:45<00:00,  6.95it/s, loss=0.744, val_loss=0.353, acc=0.757, val_acc=0.897]\n"
          ]
        },
        {
          "output_type": "stream",
          "name": "stdout",
          "text": [
            "epoch=8: "
          ]
        },
        {
          "output_type": "stream",
          "name": "stderr",
          "text": [
            "100%|██████████| 319/319 [00:45<00:00,  7.03it/s, loss=0.686, val_loss=0.289, acc=0.807, val_acc=0.927]\n"
          ]
        },
        {
          "output_type": "stream",
          "name": "stdout",
          "text": [
            "epoch=9: "
          ]
        },
        {
          "output_type": "stream",
          "name": "stderr",
          "text": [
            "100%|██████████| 319/319 [00:45<00:00,  7.03it/s, loss=0.642, val_loss=0.265, acc=0.823, val_acc=0.943]\n"
          ]
        },
        {
          "output_type": "stream",
          "name": "stdout",
          "text": [
            "epoch=10: "
          ]
        },
        {
          "output_type": "stream",
          "name": "stderr",
          "text": [
            "100%|██████████| 319/319 [00:46<00:00,  6.87it/s, loss=0.63, val_loss=0.274, acc=0.793, val_acc=0.93]\n"
          ]
        },
        {
          "output_type": "display_data",
          "data": {
            "text/plain": [
              "<Figure size 432x288 with 1 Axes>"
            ],
            "image/png": "[encoded data removed]"
          },
          "metadata": {
            "needs_background": "light"
          }
        },
        {
          "output_type": "stream",
          "name": "stdout",
          "text": [
            "epoch=11: "
          ]
        },
        {
          "output_type": "stream",
          "name": "stderr",
          "text": [
            "100%|██████████| 319/319 [00:45<00:00,  7.02it/s, loss=0.597, val_loss=0.259, acc=0.82, val_acc=0.927]\n"
          ]
        },
        {
          "output_type": "stream",
          "name": "stdout",
          "text": [
            "epoch=12: "
          ]
        },
        {
          "output_type": "stream",
          "name": "stderr",
          "text": [
            "100%|██████████| 319/319 [00:45<00:00,  6.94it/s, loss=0.564, val_loss=0.223, acc=0.82, val_acc=0.95]\n"
          ]
        },
        {
          "output_type": "stream",
          "name": "stdout",
          "text": [
            "epoch=13: "
          ]
        },
        {
          "output_type": "stream",
          "name": "stderr",
          "text": [
            "100%|██████████| 319/319 [00:45<00:00,  7.03it/s, loss=0.511, val_loss=0.237, acc=0.84, val_acc=0.933]\n"
          ]
        },
        {
          "output_type": "stream",
          "name": "stdout",
          "text": [
            "epoch=14: "
          ]
        },
        {
          "output_type": "stream",
          "name": "stderr",
          "text": [
            "100%|██████████| 319/319 [00:46<00:00,  6.87it/s, loss=0.462, val_loss=0.216, acc=0.843, val_acc=0.943]\n"
          ]
        },
        {
          "output_type": "stream",
          "name": "stdout",
          "text": [
            "epoch=15: "
          ]
        },
        {
          "output_type": "stream",
          "name": "stderr",
          "text": [
            "100%|██████████| 319/319 [00:45<00:00,  6.98it/s, loss=0.427, val_loss=0.222, acc=0.86, val_acc=0.943]\n"
          ]
        },
        {
          "output_type": "stream",
          "name": "stdout",
          "text": [
            "epoch=16: "
          ]
        },
        {
          "output_type": "stream",
          "name": "stderr",
          "text": [
            "100%|██████████| 319/319 [00:46<00:00,  6.90it/s, loss=0.46, val_loss=0.227, acc=0.873, val_acc=0.93]\n"
          ]
        },
        {
          "output_type": "stream",
          "name": "stdout",
          "text": [
            "epoch=17: "
          ]
        },
        {
          "output_type": "stream",
          "name": "stderr",
          "text": [
            "100%|██████████| 319/319 [00:45<00:00,  6.98it/s, loss=0.4, val_loss=0.188, acc=0.863, val_acc=0.947]\n"
          ]
        },
        {
          "output_type": "stream",
          "name": "stdout",
          "text": [
            "epoch=18: "
          ]
        },
        {
          "output_type": "stream",
          "name": "stderr",
          "text": [
            "100%|██████████| 319/319 [00:45<00:00,  6.95it/s, loss=0.389, val_loss=0.22, acc=0.883, val_acc=0.927]\n"
          ]
        },
        {
          "output_type": "stream",
          "name": "stdout",
          "text": [
            "epoch=19: "
          ]
        },
        {
          "output_type": "stream",
          "name": "stderr",
          "text": [
            "100%|██████████| 319/319 [00:46<00:00,  6.85it/s, loss=0.376, val_loss=0.215, acc=0.877, val_acc=0.943]\n"
          ]
        },
        {
          "output_type": "stream",
          "name": "stdout",
          "text": [
            "epoch=20: "
          ]
        },
        {
          "output_type": "stream",
          "name": "stderr",
          "text": [
            "100%|██████████| 319/319 [00:45<00:00,  7.05it/s, loss=0.352, val_loss=0.203, acc=0.89, val_acc=0.933]\n"
          ]
        },
        {
          "output_type": "display_data",
          "data": {
            "text/plain": [
              "<Figure size 432x288 with 1 Axes>"
            ],
            "image/png": "[encoded data removed]"
          },
          "metadata": {
            "needs_background": "light"
          }
        },
        {
          "output_type": "stream",
          "name": "stdout",
          "text": [
            "epoch=21: "
          ]
        },
        {
          "output_type": "stream",
          "name": "stderr",
          "text": [
            "100%|██████████| 319/319 [00:45<00:00,  6.95it/s, loss=0.319, val_loss=0.193, acc=0.893, val_acc=0.94]\n"
          ]
        },
        {
          "output_type": "stream",
          "name": "stdout",
          "text": [
            "epoch=22: "
          ]
        },
        {
          "output_type": "stream",
          "name": "stderr",
          "text": [
            "100%|██████████| 319/319 [00:45<00:00,  7.02it/s, loss=0.341, val_loss=0.188, acc=0.893, val_acc=0.947]\n"
          ]
        },
        {
          "output_type": "stream",
          "name": "stdout",
          "text": [
            "epoch=23: "
          ]
        },
        {
          "output_type": "stream",
          "name": "stderr",
          "text": [
            "100%|██████████| 319/319 [00:45<00:00,  6.94it/s, loss=0.307, val_loss=0.179, acc=0.91, val_acc=0.937]\n"
          ]
        },
        {
          "output_type": "stream",
          "name": "stdout",
          "text": [
            "epoch=24: "
          ]
        },
        {
          "output_type": "stream",
          "name": "stderr",
          "text": [
            "100%|██████████| 319/319 [00:45<00:00,  6.98it/s, loss=0.297, val_loss=0.2, acc=0.923, val_acc=0.94]\n"
          ]
        },
        {
          "output_type": "stream",
          "name": "stdout",
          "text": [
            "epoch=25: "
          ]
        },
        {
          "output_type": "stream",
          "name": "stderr",
          "text": [
            "100%|██████████| 319/319 [00:45<00:00,  7.03it/s, loss=0.264, val_loss=0.186, acc=0.917, val_acc=0.957]\n"
          ]
        },
        {
          "output_type": "stream",
          "name": "stdout",
          "text": [
            "epoch=26: "
          ]
        },
        {
          "output_type": "stream",
          "name": "stderr",
          "text": [
            "100%|██████████| 319/319 [00:46<00:00,  6.93it/s, loss=0.259, val_loss=0.19, acc=0.93, val_acc=0.943]\n"
          ]
        },
        {
          "output_type": "stream",
          "name": "stdout",
          "text": [
            "epoch=27: "
          ]
        },
        {
          "output_type": "stream",
          "name": "stderr",
          "text": [
            "100%|██████████| 319/319 [00:46<00:00,  6.84it/s, loss=0.261, val_loss=0.18, acc=0.93, val_acc=0.947]\n"
          ]
        },
        {
          "output_type": "stream",
          "name": "stdout",
          "text": [
            "epoch=28: "
          ]
        },
        {
          "output_type": "stream",
          "name": "stderr",
          "text": [
            "100%|██████████| 319/319 [00:46<00:00,  6.81it/s, loss=0.255, val_loss=0.196, acc=0.927, val_acc=0.957]\n"
          ]
        },
        {
          "output_type": "stream",
          "name": "stdout",
          "text": [
            "epoch=29: "
          ]
        },
        {
          "output_type": "stream",
          "name": "stderr",
          "text": [
            "100%|██████████| 319/319 [00:46<00:00,  6.93it/s, loss=0.258, val_loss=0.192, acc=0.93, val_acc=0.943]\n"
          ]
        },
        {
          "output_type": "stream",
          "name": "stdout",
          "text": [
            "accuracy=0.9156862745098039\n"
          ]
        },
        {
          "output_type": "display_data",
          "data": {
            "text/plain": [
              "<Figure size 432x288 with 1 Axes>"
            ],
            "image/png": "[encoded data removed]"
          },
          "metadata": {
            "needs_background": "light"
          }
        },
        {
          "output_type": "stream",
          "name": "stderr",
          "text": [
            "\u001b[32m[I 2022-08-23 14:37:38,762]\u001b[0m Trial 3 finished with value: 0.2580597534494712 and parameters: {'bs': 16, 'fs': 16, 'wdl': 3.871546576009465e-05}. Best is trial 0 with value: 0.07748191759823211.\u001b[0m\n"
          ]
        },
        {
          "output_type": "stream",
          "name": "stdout",
          "text": [
            "24\n",
            "24\n",
            "2.9935068478276994e-05\n",
            "(5100, 1, 28, 28)\n",
            "(5100, 15)\n",
            "epoch=0: "
          ]
        },
        {
          "output_type": "stream",
          "name": "stderr",
          "text": [
            "100%|██████████| 213/213 [01:04<00:00,  3.33it/s, loss=1.68, val_loss=1.29, acc=0.513, val_acc=0.747]\n"
          ]
        },
        {
          "output_type": "stream",
          "name": "stdout",
          "text": [
            "epoch=1: "
          ]
        },
        {
          "output_type": "stream",
          "name": "stderr",
          "text": [
            "100%|██████████| 213/213 [01:03<00:00,  3.35it/s, loss=1.2, val_loss=0.753, acc=0.67, val_acc=0.873]\n"
          ]
        },
        {
          "output_type": "stream",
          "name": "stdout",
          "text": [
            "epoch=2: "
          ]
        },
        {
          "output_type": "stream",
          "name": "stderr",
          "text": [
            "100%|██████████| 213/213 [01:04<00:00,  3.30it/s, loss=0.975, val_loss=0.498, acc=0.69, val_acc=0.913]\n"
          ]
        },
        {
          "output_type": "stream",
          "name": "stdout",
          "text": [
            "epoch=3: "
          ]
        },
        {
          "output_type": "stream",
          "name": "stderr",
          "text": [
            "100%|██████████| 213/213 [01:03<00:00,  3.34it/s, loss=0.79, val_loss=0.391, acc=0.737, val_acc=0.93]\n"
          ]
        },
        {
          "output_type": "stream",
          "name": "stdout",
          "text": [
            "epoch=4: "
          ]
        },
        {
          "output_type": "stream",
          "name": "stderr",
          "text": [
            "100%|██████████| 213/213 [01:03<00:00,  3.35it/s, loss=0.715, val_loss=0.336, acc=0.757, val_acc=0.93]\n"
          ]
        },
        {
          "output_type": "stream",
          "name": "stdout",
          "text": [
            "epoch=5: "
          ]
        },
        {
          "output_type": "stream",
          "name": "stderr",
          "text": [
            "100%|██████████| 213/213 [01:03<00:00,  3.37it/s, loss=0.661, val_loss=0.307, acc=0.77, val_acc=0.943]\n"
          ]
        },
        {
          "output_type": "stream",
          "name": "stdout",
          "text": [
            "epoch=6: "
          ]
        },
        {
          "output_type": "stream",
          "name": "stderr",
          "text": [
            "100%|██████████| 213/213 [01:03<00:00,  3.37it/s, loss=0.61, val_loss=0.298, acc=0.793, val_acc=0.93]\n"
          ]
        },
        {
          "output_type": "stream",
          "name": "stdout",
          "text": [
            "epoch=7: "
          ]
        },
        {
          "output_type": "stream",
          "name": "stderr",
          "text": [
            "100%|██████████| 213/213 [01:04<00:00,  3.32it/s, loss=0.516, val_loss=0.237, acc=0.837, val_acc=0.963]\n"
          ]
        },
        {
          "output_type": "stream",
          "name": "stdout",
          "text": [
            "epoch=8: "
          ]
        },
        {
          "output_type": "stream",
          "name": "stderr",
          "text": [
            "100%|██████████| 213/213 [01:03<00:00,  3.35it/s, loss=0.472, val_loss=0.214, acc=0.84, val_acc=0.957]\n"
          ]
        },
        {
          "output_type": "stream",
          "name": "stdout",
          "text": [
            "epoch=9: "
          ]
        },
        {
          "output_type": "stream",
          "name": "stderr",
          "text": [
            "100%|██████████| 213/213 [01:03<00:00,  3.36it/s, loss=0.48, val_loss=0.247, acc=0.837, val_acc=0.947]\n"
          ]
        },
        {
          "output_type": "stream",
          "name": "stdout",
          "text": [
            "epoch=10: "
          ]
        },
        {
          "output_type": "stream",
          "name": "stderr",
          "text": [
            "100%|██████████| 213/213 [01:03<00:00,  3.36it/s, loss=0.476, val_loss=0.24, acc=0.83, val_acc=0.933]\n"
          ]
        },
        {
          "output_type": "display_data",
          "data": {
            "text/plain": [
              "<Figure size 432x288 with 1 Axes>"
            ],
            "image/png": "[encoded data removed]"
          },
          "metadata": {
            "needs_background": "light"
          }
        },
        {
          "output_type": "stream",
          "name": "stdout",
          "text": [
            "epoch=11: "
          ]
        },
        {
          "output_type": "stream",
          "name": "stderr",
          "text": [
            "100%|██████████| 213/213 [01:04<00:00,  3.30it/s, loss=0.41, val_loss=0.221, acc=0.867, val_acc=0.937]\n"
          ]
        },
        {
          "output_type": "stream",
          "name": "stdout",
          "text": [
            "epoch=12: "
          ]
        },
        {
          "output_type": "stream",
          "name": "stderr",
          "text": [
            "100%|██████████| 213/213 [01:04<00:00,  3.30it/s, loss=0.371, val_loss=0.193, acc=0.863, val_acc=0.943]\n"
          ]
        },
        {
          "output_type": "stream",
          "name": "stdout",
          "text": [
            "epoch=13: "
          ]
        },
        {
          "output_type": "stream",
          "name": "stderr",
          "text": [
            "100%|██████████| 213/213 [01:03<00:00,  3.33it/s, loss=0.354, val_loss=0.165, acc=0.887, val_acc=0.97]\n"
          ]
        },
        {
          "output_type": "stream",
          "name": "stdout",
          "text": [
            "epoch=14: "
          ]
        },
        {
          "output_type": "stream",
          "name": "stderr",
          "text": [
            "100%|██████████| 213/213 [01:02<00:00,  3.39it/s, loss=0.331, val_loss=0.165, acc=0.89, val_acc=0.96]\n"
          ]
        },
        {
          "output_type": "stream",
          "name": "stdout",
          "text": [
            "epoch=15: "
          ]
        },
        {
          "output_type": "stream",
          "name": "stderr",
          "text": [
            "100%|██████████| 213/213 [01:03<00:00,  3.38it/s, loss=0.344, val_loss=0.176, acc=0.89, val_acc=0.967]\n"
          ]
        },
        {
          "output_type": "stream",
          "name": "stdout",
          "text": [
            "epoch=16: "
          ]
        },
        {
          "output_type": "stream",
          "name": "stderr",
          "text": [
            "100%|██████████| 213/213 [01:02<00:00,  3.40it/s, loss=0.292, val_loss=0.168, acc=0.887, val_acc=0.963]\n"
          ]
        },
        {
          "output_type": "stream",
          "name": "stdout",
          "text": [
            "epoch=17: "
          ]
        },
        {
          "output_type": "stream",
          "name": "stderr",
          "text": [
            "100%|██████████| 213/213 [01:03<00:00,  3.36it/s, loss=0.287, val_loss=0.157, acc=0.897, val_acc=0.967]\n"
          ]
        },
        {
          "output_type": "stream",
          "name": "stdout",
          "text": [
            "epoch=18: "
          ]
        },
        {
          "output_type": "stream",
          "name": "stderr",
          "text": [
            "100%|██████████| 213/213 [01:02<00:00,  3.39it/s, loss=0.26, val_loss=0.161, acc=0.91, val_acc=0.953]\n"
          ]
        },
        {
          "output_type": "stream",
          "name": "stdout",
          "text": [
            "epoch=19: "
          ]
        },
        {
          "output_type": "stream",
          "name": "stderr",
          "text": [
            "100%|██████████| 213/213 [01:02<00:00,  3.41it/s, loss=0.247, val_loss=0.138, acc=0.917, val_acc=0.973]\n"
          ]
        },
        {
          "output_type": "stream",
          "name": "stdout",
          "text": [
            "epoch=20: "
          ]
        },
        {
          "output_type": "stream",
          "name": "stderr",
          "text": [
            "100%|██████████| 213/213 [01:02<00:00,  3.39it/s, loss=0.218, val_loss=0.134, acc=0.95, val_acc=0.97]\n"
          ]
        },
        {
          "output_type": "display_data",
          "data": {
            "text/plain": [
              "<Figure size 432x288 with 1 Axes>"
            ],
            "image/png": "[encoded data removed]"
          },
          "metadata": {
            "needs_background": "light"
          }
        },
        {
          "output_type": "stream",
          "name": "stdout",
          "text": [
            "epoch=21: "
          ]
        },
        {
          "output_type": "stream",
          "name": "stderr",
          "text": [
            "100%|██████████| 213/213 [01:03<00:00,  3.35it/s, loss=0.224, val_loss=0.148, acc=0.933, val_acc=0.96]\n"
          ]
        },
        {
          "output_type": "stream",
          "name": "stdout",
          "text": [
            "epoch=22: "
          ]
        },
        {
          "output_type": "stream",
          "name": "stderr",
          "text": [
            "100%|██████████| 213/213 [01:04<00:00,  3.32it/s, loss=0.212, val_loss=0.137, acc=0.92, val_acc=0.973]\n"
          ]
        },
        {
          "output_type": "stream",
          "name": "stdout",
          "text": [
            "epoch=23: "
          ]
        },
        {
          "output_type": "stream",
          "name": "stderr",
          "text": [
            "100%|██████████| 213/213 [01:03<00:00,  3.35it/s, loss=0.207, val_loss=0.143, acc=0.937, val_acc=0.963]\n"
          ]
        },
        {
          "output_type": "stream",
          "name": "stdout",
          "text": [
            "epoch=24: "
          ]
        },
        {
          "output_type": "stream",
          "name": "stderr",
          "text": [
            "100%|██████████| 213/213 [01:03<00:00,  3.36it/s, loss=0.218, val_loss=0.145, acc=0.923, val_acc=0.967]\n"
          ]
        },
        {
          "output_type": "stream",
          "name": "stdout",
          "text": [
            "epoch=25: "
          ]
        },
        {
          "output_type": "stream",
          "name": "stderr",
          "text": [
            "100%|██████████| 213/213 [01:02<00:00,  3.39it/s, loss=0.201, val_loss=0.138, acc=0.93, val_acc=0.983]\n"
          ]
        },
        {
          "output_type": "stream",
          "name": "stdout",
          "text": [
            "epoch=26: "
          ]
        },
        {
          "output_type": "stream",
          "name": "stderr",
          "text": [
            "100%|██████████| 213/213 [01:02<00:00,  3.39it/s, loss=0.175, val_loss=0.138, acc=0.943, val_acc=0.967]\n"
          ]
        },
        {
          "output_type": "stream",
          "name": "stdout",
          "text": [
            "epoch=27: "
          ]
        },
        {
          "output_type": "stream",
          "name": "stderr",
          "text": [
            "100%|██████████| 213/213 [01:04<00:00,  3.29it/s, loss=0.173, val_loss=0.138, acc=0.95, val_acc=0.973]\n"
          ]
        },
        {
          "output_type": "stream",
          "name": "stdout",
          "text": [
            "epoch=28: "
          ]
        },
        {
          "output_type": "stream",
          "name": "stderr",
          "text": [
            "100%|██████████| 213/213 [01:04<00:00,  3.31it/s, loss=0.166, val_loss=0.143, acc=0.947, val_acc=0.973]\n"
          ]
        },
        {
          "output_type": "stream",
          "name": "stdout",
          "text": [
            "epoch=29: "
          ]
        },
        {
          "output_type": "stream",
          "name": "stderr",
          "text": [
            "100%|██████████| 213/213 [01:03<00:00,  3.36it/s, loss=0.163, val_loss=0.133, acc=0.947, val_acc=0.963]\n"
          ]
        },
        {
          "output_type": "stream",
          "name": "stdout",
          "text": [
            "accuracy=0.9454901960784313\n"
          ]
        },
        {
          "output_type": "display_data",
          "data": {
            "text/plain": [
              "<Figure size 432x288 with 1 Axes>"
            ],
            "image/png": "[encoded data removed]"
          },
          "metadata": {
            "needs_background": "light"
          }
        },
        {
          "output_type": "stream",
          "name": "stderr",
          "text": [
            "\u001b[32m[I 2022-08-23 15:09:48,438]\u001b[0m Trial 4 finished with value: 0.16316715073646076 and parameters: {'bs': 24, 'fs': 24, 'wdl': 2.9935068478276994e-05}. Best is trial 0 with value: 0.07748191759823211.\u001b[0m\n"
          ]
        }
      ],
      "source": [
        "def objective(trial):\n",
        "    epochs = 30\n",
        "    batch_size = trial.suggest_int('bs',8,24,step=8)\n",
        "    fs = trial.suggest_int('fs',16,32,step=8)\n",
        "    wdl=trial.suggest_loguniform('wdl',5e-6,5e-5)\n",
        "    num=2\n",
        "    print(batch_size)\n",
        "    print(fs)\n",
        "    print(wdl)\n",
        "  #モデルを作成\n",
        "    x,t=create_img(X_train,y_train,num)\n",
        "    model = build_model(fs,wdl)\n",
        "    history = model.fit(model,x,t,epochs,batch_size,X_test,y_test)\n",
        "    train_acc =model.accuracy(x,t)\n",
        "    print('accuracy={}'.format(train_acc))\n",
        "    # lossとaccuracyのグラフ化\n",
        "    df_log = pd.DataFrame(history)\n",
        "    df_log.plot(style=['r-', 'r--', 'b-', 'b--'])\n",
        "    plt.ylim([0,1.5])\n",
        "    plt.ylabel(\"Accuracy or loss\")\n",
        "    plt.xlabel(\"epochs\")\n",
        "    plt.show()\n",
        "\n",
        "    #検証用データに対する正答率が最大となるハイパーパラメータを求める\n",
        "    return history['loss'][-1]\n",
        "\n",
        "study = optuna.create_study(direction='minimize')\n",
        "study.optimize(objective, n_trials=5)"
      ]
    },
    {
      "cell_type": "code",
      "source": [
        "from operator import itemgetter\n",
        "bs,fs,wdl=itemgetter('bs', 'fs','wdl')(study.best_params)\n",
        "print(study.best_params)\n",
        "print(bs)"
      ],
      "metadata": {
        "id": "2AXbDcHBIdLX",
        "outputId": "de84e6b7-161a-48c9-d97c-4112d194bf46",
        "colab": {
          "base_uri": "https://localhost:8080/"
        }
      },
      "execution_count": 23,
      "outputs": [
        {
          "output_type": "stream",
          "name": "stdout",
          "text": [
            "{'bs': 8, 'fs': 32, 'wdl': 7.894265773019396e-06}\n",
            "8\n"
          ]
        }
      ]
    },
    {
      "cell_type": "code",
      "execution_count": 24,
      "metadata": {
        "colab": {
          "base_uri": "https://localhost:8080/",
          "height": 1000
        },
        "id": "2g8dAkQl6ynR",
        "outputId": "1b5a823f-e2cb-4f57-e313-f230574b1b08"
      },
      "outputs": [
        {
          "output_type": "stream",
          "name": "stdout",
          "text": [
            "(5100, 1, 28, 28)\n",
            "(5100, 15)\n",
            "epoch=0: "
          ]
        },
        {
          "output_type": "stream",
          "name": "stderr",
          "text": [
            "100%|██████████| 638/638 [01:40<00:00,  6.36it/s, loss=1.38, val_loss=0.842, acc=0.58, val_acc=0.773]\n"
          ]
        },
        {
          "output_type": "stream",
          "name": "stdout",
          "text": [
            "epoch=1: "
          ]
        },
        {
          "output_type": "stream",
          "name": "stderr",
          "text": [
            "100%|██████████| 638/638 [01:39<00:00,  6.41it/s, loss=0.949, val_loss=0.474, acc=0.7, val_acc=0.857]\n"
          ]
        },
        {
          "output_type": "stream",
          "name": "stdout",
          "text": [
            "epoch=2: "
          ]
        },
        {
          "output_type": "stream",
          "name": "stderr",
          "text": [
            "100%|██████████| 638/638 [01:37<00:00,  6.57it/s, loss=0.718, val_loss=0.297, acc=0.737, val_acc=0.903]\n"
          ]
        },
        {
          "output_type": "stream",
          "name": "stdout",
          "text": [
            "epoch=3: "
          ]
        },
        {
          "output_type": "stream",
          "name": "stderr",
          "text": [
            "100%|██████████| 638/638 [01:39<00:00,  6.38it/s, loss=0.627, val_loss=0.242, acc=0.8, val_acc=0.93]\n"
          ]
        },
        {
          "output_type": "stream",
          "name": "stdout",
          "text": [
            "epoch=4: "
          ]
        },
        {
          "output_type": "stream",
          "name": "stderr",
          "text": [
            "100%|██████████| 638/638 [01:40<00:00,  6.35it/s, loss=0.595, val_loss=0.203, acc=0.797, val_acc=0.953]\n"
          ]
        },
        {
          "output_type": "stream",
          "name": "stdout",
          "text": [
            "epoch=5: "
          ]
        },
        {
          "output_type": "stream",
          "name": "stderr",
          "text": [
            "100%|██████████| 638/638 [01:39<00:00,  6.42it/s, loss=0.499, val_loss=0.209, acc=0.83, val_acc=0.933]\n"
          ]
        },
        {
          "output_type": "stream",
          "name": "stdout",
          "text": [
            "epoch=6: "
          ]
        },
        {
          "output_type": "stream",
          "name": "stderr",
          "text": [
            "100%|██████████| 638/638 [01:38<00:00,  6.50it/s, loss=0.451, val_loss=0.202, acc=0.83, val_acc=0.927]\n"
          ]
        },
        {
          "output_type": "stream",
          "name": "stdout",
          "text": [
            "epoch=7: "
          ]
        },
        {
          "output_type": "stream",
          "name": "stderr",
          "text": [
            "100%|██████████| 638/638 [01:35<00:00,  6.65it/s, loss=0.408, val_loss=0.157, acc=0.877, val_acc=0.957]\n"
          ]
        },
        {
          "output_type": "stream",
          "name": "stdout",
          "text": [
            "epoch=8: "
          ]
        },
        {
          "output_type": "stream",
          "name": "stderr",
          "text": [
            "100%|██████████| 638/638 [01:37<00:00,  6.52it/s, loss=0.354, val_loss=0.19, acc=0.877, val_acc=0.947]\n"
          ]
        },
        {
          "output_type": "stream",
          "name": "stdout",
          "text": [
            "epoch=9: "
          ]
        },
        {
          "output_type": "stream",
          "name": "stderr",
          "text": [
            "100%|██████████| 638/638 [01:35<00:00,  6.68it/s, loss=0.383, val_loss=0.163, acc=0.867, val_acc=0.943]\n"
          ]
        },
        {
          "output_type": "stream",
          "name": "stdout",
          "text": [
            "epoch=10: "
          ]
        },
        {
          "output_type": "stream",
          "name": "stderr",
          "text": [
            "100%|██████████| 638/638 [01:36<00:00,  6.60it/s, loss=0.298, val_loss=0.168, acc=0.91, val_acc=0.937]\n"
          ]
        },
        {
          "output_type": "display_data",
          "data": {
            "text/plain": [
              "<Figure size 432x288 with 1 Axes>"
            ],
            "image/png": "[encoded data removed]"
          },
          "metadata": {
            "needs_background": "light"
          }
        },
        {
          "output_type": "stream",
          "name": "stdout",
          "text": [
            "epoch=11: "
          ]
        },
        {
          "output_type": "stream",
          "name": "stderr",
          "text": [
            "100%|██████████| 638/638 [01:37<00:00,  6.52it/s, loss=0.239, val_loss=0.148, acc=0.917, val_acc=0.947]\n"
          ]
        },
        {
          "output_type": "stream",
          "name": "stdout",
          "text": [
            "epoch=12: "
          ]
        },
        {
          "output_type": "stream",
          "name": "stderr",
          "text": [
            "100%|██████████| 638/638 [01:36<00:00,  6.63it/s, loss=0.284, val_loss=0.161, acc=0.91, val_acc=0.96]\n"
          ]
        },
        {
          "output_type": "stream",
          "name": "stdout",
          "text": [
            "epoch=13: "
          ]
        },
        {
          "output_type": "stream",
          "name": "stderr",
          "text": [
            "100%|██████████| 638/638 [01:36<00:00,  6.64it/s, loss=0.255, val_loss=0.13, acc=0.897, val_acc=0.96]\n"
          ]
        },
        {
          "output_type": "stream",
          "name": "stdout",
          "text": [
            "epoch=14: "
          ]
        },
        {
          "output_type": "stream",
          "name": "stderr",
          "text": [
            "100%|██████████| 638/638 [01:37<00:00,  6.54it/s, loss=0.228, val_loss=0.118, acc=0.917, val_acc=0.97]\n"
          ]
        },
        {
          "output_type": "stream",
          "name": "stdout",
          "text": [
            "epoch=15: "
          ]
        },
        {
          "output_type": "stream",
          "name": "stderr",
          "text": [
            "100%|██████████| 638/638 [01:35<00:00,  6.67it/s, loss=0.206, val_loss=0.148, acc=0.917, val_acc=0.943]\n"
          ]
        },
        {
          "output_type": "stream",
          "name": "stdout",
          "text": [
            "epoch=16: "
          ]
        },
        {
          "output_type": "stream",
          "name": "stderr",
          "text": [
            "100%|██████████| 638/638 [01:35<00:00,  6.71it/s, loss=0.206, val_loss=0.176, acc=0.92, val_acc=0.957]\n"
          ]
        },
        {
          "output_type": "stream",
          "name": "stdout",
          "text": [
            "epoch=17: "
          ]
        },
        {
          "output_type": "stream",
          "name": "stderr",
          "text": [
            "100%|██████████| 638/638 [01:35<00:00,  6.71it/s, loss=0.193, val_loss=0.127, acc=0.947, val_acc=0.96]\n"
          ]
        },
        {
          "output_type": "stream",
          "name": "stdout",
          "text": [
            "epoch=18: "
          ]
        },
        {
          "output_type": "stream",
          "name": "stderr",
          "text": [
            "100%|██████████| 638/638 [01:35<00:00,  6.71it/s, loss=0.206, val_loss=0.134, acc=0.933, val_acc=0.97]\n"
          ]
        },
        {
          "output_type": "stream",
          "name": "stdout",
          "text": [
            "epoch=19: "
          ]
        },
        {
          "output_type": "stream",
          "name": "stderr",
          "text": [
            "100%|██████████| 638/638 [01:35<00:00,  6.68it/s, loss=0.164, val_loss=0.114, acc=0.95, val_acc=0.973]\n"
          ]
        },
        {
          "output_type": "stream",
          "name": "stdout",
          "text": [
            "epoch=20: "
          ]
        },
        {
          "output_type": "stream",
          "name": "stderr",
          "text": [
            "100%|██████████| 638/638 [01:36<00:00,  6.61it/s, loss=0.154, val_loss=0.148, acc=0.94, val_acc=0.957]\n"
          ]
        },
        {
          "output_type": "display_data",
          "data": {
            "text/plain": [
              "<Figure size 432x288 with 1 Axes>"
            ],
            "image/png": "[encoded data removed]"
          },
          "metadata": {
            "needs_background": "light"
          }
        },
        {
          "output_type": "stream",
          "name": "stdout",
          "text": [
            "epoch=21: "
          ]
        },
        {
          "output_type": "stream",
          "name": "stderr",
          "text": [
            "100%|██████████| 638/638 [01:33<00:00,  6.83it/s, loss=0.142, val_loss=0.148, acc=0.957, val_acc=0.963]\n"
          ]
        },
        {
          "output_type": "stream",
          "name": "stdout",
          "text": [
            "epoch=22: "
          ]
        },
        {
          "output_type": "stream",
          "name": "stderr",
          "text": [
            "100%|██████████| 638/638 [01:34<00:00,  6.77it/s, loss=0.146, val_loss=0.144, acc=0.96, val_acc=0.963]\n"
          ]
        },
        {
          "output_type": "stream",
          "name": "stdout",
          "text": [
            "epoch=23: "
          ]
        },
        {
          "output_type": "stream",
          "name": "stderr",
          "text": [
            "100%|██████████| 638/638 [01:35<00:00,  6.70it/s, loss=0.12, val_loss=0.148, acc=0.963, val_acc=0.963]\n"
          ]
        },
        {
          "output_type": "stream",
          "name": "stdout",
          "text": [
            "epoch=24: "
          ]
        },
        {
          "output_type": "stream",
          "name": "stderr",
          "text": [
            "100%|██████████| 638/638 [01:34<00:00,  6.78it/s, loss=0.12, val_loss=0.137, acc=0.967, val_acc=0.973]\n"
          ]
        },
        {
          "output_type": "stream",
          "name": "stdout",
          "text": [
            "epoch=25: "
          ]
        },
        {
          "output_type": "stream",
          "name": "stderr",
          "text": [
            "100%|██████████| 638/638 [01:35<00:00,  6.70it/s, loss=0.115, val_loss=0.114, acc=0.97, val_acc=0.97]\n"
          ]
        },
        {
          "output_type": "stream",
          "name": "stdout",
          "text": [
            "epoch=26: "
          ]
        },
        {
          "output_type": "stream",
          "name": "stderr",
          "text": [
            "100%|██████████| 638/638 [01:35<00:00,  6.71it/s, loss=0.104, val_loss=0.154, acc=0.967, val_acc=0.96]\n"
          ]
        },
        {
          "output_type": "stream",
          "name": "stdout",
          "text": [
            "epoch=27: "
          ]
        },
        {
          "output_type": "stream",
          "name": "stderr",
          "text": [
            "100%|██████████| 638/638 [01:35<00:00,  6.71it/s, loss=0.107, val_loss=0.15, acc=0.963, val_acc=0.957]\n"
          ]
        },
        {
          "output_type": "stream",
          "name": "stdout",
          "text": [
            "epoch=28: "
          ]
        },
        {
          "output_type": "stream",
          "name": "stderr",
          "text": [
            "100%|██████████| 638/638 [01:34<00:00,  6.72it/s, loss=0.108, val_loss=0.145, acc=0.98, val_acc=0.963]\n"
          ]
        },
        {
          "output_type": "stream",
          "name": "stdout",
          "text": [
            "epoch=29: "
          ]
        },
        {
          "output_type": "stream",
          "name": "stderr",
          "text": [
            "100%|██████████| 638/638 [01:34<00:00,  6.79it/s, loss=0.0919, val_loss=0.165, acc=0.983, val_acc=0.967]\n"
          ]
        },
        {
          "output_type": "stream",
          "name": "stdout",
          "text": [
            "epoch=30: "
          ]
        },
        {
          "output_type": "stream",
          "name": "stderr",
          "text": [
            "100%|██████████| 638/638 [01:35<00:00,  6.67it/s, loss=0.0854, val_loss=0.134, acc=0.973, val_acc=0.963]\n"
          ]
        },
        {
          "output_type": "display_data",
          "data": {
            "text/plain": [
              "<Figure size 432x288 with 1 Axes>"
            ],
            "image/png": "[encoded data removed]"
          },
          "metadata": {
            "needs_background": "light"
          }
        },
        {
          "output_type": "stream",
          "name": "stdout",
          "text": [
            "epoch=31: "
          ]
        },
        {
          "output_type": "stream",
          "name": "stderr",
          "text": [
            "100%|██████████| 638/638 [01:34<00:00,  6.73it/s, loss=0.104, val_loss=0.178, acc=0.96, val_acc=0.967]\n"
          ]
        },
        {
          "output_type": "stream",
          "name": "stdout",
          "text": [
            "epoch=32: "
          ]
        },
        {
          "output_type": "stream",
          "name": "stderr",
          "text": [
            "100%|██████████| 638/638 [01:33<00:00,  6.82it/s, loss=0.0889, val_loss=0.13, acc=0.99, val_acc=0.973]\n"
          ]
        },
        {
          "output_type": "stream",
          "name": "stdout",
          "text": [
            "epoch=33: "
          ]
        },
        {
          "output_type": "stream",
          "name": "stderr",
          "text": [
            "100%|██████████| 638/638 [01:33<00:00,  6.83it/s, loss=0.0829, val_loss=0.167, acc=0.98, val_acc=0.967]\n"
          ]
        },
        {
          "output_type": "stream",
          "name": "stdout",
          "text": [
            "epoch=34: "
          ]
        },
        {
          "output_type": "stream",
          "name": "stderr",
          "text": [
            "100%|██████████| 638/638 [01:34<00:00,  6.74it/s, loss=0.0807, val_loss=0.14, acc=0.983, val_acc=0.973]\n"
          ]
        },
        {
          "output_type": "stream",
          "name": "stdout",
          "text": [
            "epoch=35: "
          ]
        },
        {
          "output_type": "stream",
          "name": "stderr",
          "text": [
            "100%|██████████| 638/638 [01:34<00:00,  6.76it/s, loss=0.0857, val_loss=0.139, acc=0.987, val_acc=0.967]\n"
          ]
        },
        {
          "output_type": "stream",
          "name": "stdout",
          "text": [
            "epoch=36: "
          ]
        },
        {
          "output_type": "stream",
          "name": "stderr",
          "text": [
            "100%|██████████| 638/638 [01:33<00:00,  6.84it/s, loss=0.0758, val_loss=0.146, acc=0.993, val_acc=0.97]\n"
          ]
        },
        {
          "output_type": "stream",
          "name": "stdout",
          "text": [
            "epoch=37: "
          ]
        },
        {
          "output_type": "stream",
          "name": "stderr",
          "text": [
            "100%|██████████| 638/638 [01:35<00:00,  6.69it/s, loss=0.0823, val_loss=0.156, acc=0.983, val_acc=0.967]\n"
          ]
        },
        {
          "output_type": "stream",
          "name": "stdout",
          "text": [
            "epoch=38: "
          ]
        },
        {
          "output_type": "stream",
          "name": "stderr",
          "text": [
            "100%|██████████| 638/638 [01:31<00:00,  6.96it/s, loss=0.0848, val_loss=0.139, acc=0.987, val_acc=0.973]\n"
          ]
        },
        {
          "output_type": "stream",
          "name": "stdout",
          "text": [
            "epoch=39: "
          ]
        },
        {
          "output_type": "stream",
          "name": "stderr",
          "text": [
            "100%|██████████| 638/638 [01:30<00:00,  7.04it/s, loss=0.0811, val_loss=0.131, acc=0.993, val_acc=0.97]\n"
          ]
        },
        {
          "output_type": "stream",
          "name": "stdout",
          "text": [
            "epoch=40: "
          ]
        },
        {
          "output_type": "stream",
          "name": "stderr",
          "text": [
            "100%|██████████| 638/638 [01:32<00:00,  6.92it/s, loss=0.0935, val_loss=0.164, acc=0.99, val_acc=0.967]\n"
          ]
        },
        {
          "output_type": "display_data",
          "data": {
            "text/plain": [
              "<Figure size 432x288 with 1 Axes>"
            ],
            "image/png": "[encoded data removed]"
          },
          "metadata": {
            "needs_background": "light"
          }
        },
        {
          "output_type": "stream",
          "name": "stdout",
          "text": [
            "epoch=41: "
          ]
        },
        {
          "output_type": "stream",
          "name": "stderr",
          "text": [
            "100%|██████████| 638/638 [01:33<00:00,  6.84it/s, loss=0.0749, val_loss=0.154, acc=0.993, val_acc=0.977]\n"
          ]
        },
        {
          "output_type": "stream",
          "name": "stdout",
          "text": [
            "epoch=42: "
          ]
        },
        {
          "output_type": "stream",
          "name": "stderr",
          "text": [
            "100%|██████████| 638/638 [01:31<00:00,  6.96it/s, loss=0.0795, val_loss=0.153, acc=0.99, val_acc=0.97]\n"
          ]
        },
        {
          "output_type": "stream",
          "name": "stdout",
          "text": [
            "epoch=43: "
          ]
        },
        {
          "output_type": "stream",
          "name": "stderr",
          "text": [
            "100%|██████████| 638/638 [01:32<00:00,  6.88it/s, loss=0.0774, val_loss=0.172, acc=0.993, val_acc=0.967]\n"
          ]
        },
        {
          "output_type": "stream",
          "name": "stdout",
          "text": [
            "epoch=44: "
          ]
        },
        {
          "output_type": "stream",
          "name": "stderr",
          "text": [
            "100%|██████████| 638/638 [01:32<00:00,  6.89it/s, loss=0.0717, val_loss=0.155, acc=0.997, val_acc=0.973]\n"
          ]
        },
        {
          "output_type": "stream",
          "name": "stdout",
          "text": [
            "epoch=45: "
          ]
        },
        {
          "output_type": "stream",
          "name": "stderr",
          "text": [
            "100%|██████████| 638/638 [01:32<00:00,  6.89it/s, loss=0.0887, val_loss=0.171, acc=0.993, val_acc=0.963]\n"
          ]
        },
        {
          "output_type": "stream",
          "name": "stdout",
          "text": [
            "epoch=46: "
          ]
        },
        {
          "output_type": "stream",
          "name": "stderr",
          "text": [
            "100%|██████████| 638/638 [01:34<00:00,  6.78it/s, loss=0.0961, val_loss=0.166, acc=0.987, val_acc=0.98]\n"
          ]
        },
        {
          "output_type": "stream",
          "name": "stdout",
          "text": [
            "epoch=47: "
          ]
        },
        {
          "output_type": "stream",
          "name": "stderr",
          "text": [
            "100%|██████████| 638/638 [01:32<00:00,  6.86it/s, loss=0.0776, val_loss=0.19, acc=0.987, val_acc=0.97]\n"
          ]
        },
        {
          "output_type": "stream",
          "name": "stdout",
          "text": [
            "epoch=48: "
          ]
        },
        {
          "output_type": "stream",
          "name": "stderr",
          "text": [
            "100%|██████████| 638/638 [01:32<00:00,  6.89it/s, loss=0.0813, val_loss=0.182, acc=0.997, val_acc=0.967]\n"
          ]
        },
        {
          "output_type": "stream",
          "name": "stdout",
          "text": [
            "epoch=49: "
          ]
        },
        {
          "output_type": "stream",
          "name": "stderr",
          "text": [
            "100%|██████████| 638/638 [01:34<00:00,  6.76it/s, loss=0.0775, val_loss=0.152, acc=1, val_acc=0.97]\n"
          ]
        },
        {
          "output_type": "stream",
          "name": "stdout",
          "text": [
            "epoch=50: "
          ]
        },
        {
          "output_type": "stream",
          "name": "stderr",
          "text": [
            "100%|██████████| 638/638 [02:05<00:00,  5.09it/s, loss=0.0112, val_loss=0.119, acc=1, val_acc=0.97]\n"
          ]
        },
        {
          "output_type": "display_data",
          "data": {
            "text/plain": [
              "<Figure size 432x288 with 1 Axes>"
            ],
            "image/png": "[encoded data removed]"
          },
          "metadata": {
            "needs_background": "light"
          }
        },
        {
          "output_type": "stream",
          "name": "stdout",
          "text": [
            "epoch=51: "
          ]
        },
        {
          "output_type": "stream",
          "name": "stderr",
          "text": [
            "100%|██████████| 638/638 [01:36<00:00,  6.64it/s, loss=0.00843, val_loss=0.117, acc=1, val_acc=0.97]\n"
          ]
        },
        {
          "output_type": "stream",
          "name": "stdout",
          "text": [
            "epoch=52: "
          ]
        },
        {
          "output_type": "stream",
          "name": "stderr",
          "text": [
            "100%|██████████| 638/638 [01:34<00:00,  6.77it/s, loss=0.00847, val_loss=0.117, acc=1, val_acc=0.97]\n"
          ]
        },
        {
          "output_type": "stream",
          "name": "stdout",
          "text": [
            "epoch=53: "
          ]
        },
        {
          "output_type": "stream",
          "name": "stderr",
          "text": [
            "100%|██████████| 638/638 [01:36<00:00,  6.59it/s, loss=0.00852, val_loss=0.117, acc=1, val_acc=0.97]\n"
          ]
        },
        {
          "output_type": "stream",
          "name": "stdout",
          "text": [
            "epoch=54: "
          ]
        },
        {
          "output_type": "stream",
          "name": "stderr",
          "text": [
            "100%|██████████| 638/638 [01:34<00:00,  6.73it/s, loss=0.00858, val_loss=0.117, acc=1, val_acc=0.97]\n"
          ]
        },
        {
          "output_type": "stream",
          "name": "stdout",
          "text": [
            "epoch=55: "
          ]
        },
        {
          "output_type": "stream",
          "name": "stderr",
          "text": [
            "100%|██████████| 638/638 [01:34<00:00,  6.77it/s, loss=0.00866, val_loss=0.117, acc=1, val_acc=0.97]\n"
          ]
        },
        {
          "output_type": "stream",
          "name": "stdout",
          "text": [
            "epoch=56: "
          ]
        },
        {
          "output_type": "stream",
          "name": "stderr",
          "text": [
            "100%|██████████| 638/638 [01:36<00:00,  6.61it/s, loss=0.00877, val_loss=0.118, acc=1, val_acc=0.97]\n"
          ]
        },
        {
          "output_type": "stream",
          "name": "stdout",
          "text": [
            "epoch=57: "
          ]
        },
        {
          "output_type": "stream",
          "name": "stderr",
          "text": [
            "100%|██████████| 638/638 [01:34<00:00,  6.78it/s, loss=0.00889, val_loss=0.118, acc=1, val_acc=0.97]\n"
          ]
        },
        {
          "output_type": "stream",
          "name": "stdout",
          "text": [
            "epoch=58: "
          ]
        },
        {
          "output_type": "stream",
          "name": "stderr",
          "text": [
            "100%|██████████| 638/638 [01:34<00:00,  6.75it/s, loss=0.00902, val_loss=0.118, acc=1, val_acc=0.97]\n"
          ]
        },
        {
          "output_type": "stream",
          "name": "stdout",
          "text": [
            "epoch=59: "
          ]
        },
        {
          "output_type": "stream",
          "name": "stderr",
          "text": [
            "100%|██████████| 638/638 [01:33<00:00,  6.79it/s, loss=0.00917, val_loss=0.118, acc=1, val_acc=0.97]\n"
          ]
        },
        {
          "output_type": "stream",
          "name": "stdout",
          "text": [
            "epoch=60: "
          ]
        },
        {
          "output_type": "stream",
          "name": "stderr",
          "text": [
            "100%|██████████| 638/638 [01:35<00:00,  6.69it/s, loss=0.00935, val_loss=0.118, acc=1, val_acc=0.97]\n"
          ]
        },
        {
          "output_type": "display_data",
          "data": {
            "text/plain": [
              "<Figure size 432x288 with 1 Axes>"
            ],
            "image/png": "[encoded data removed]"
          },
          "metadata": {
            "needs_background": "light"
          }
        },
        {
          "output_type": "stream",
          "name": "stdout",
          "text": [
            "epoch=61: "
          ]
        },
        {
          "output_type": "stream",
          "name": "stderr",
          "text": [
            "100%|██████████| 638/638 [01:34<00:00,  6.77it/s, loss=0.00955, val_loss=0.118, acc=1, val_acc=0.97]\n"
          ]
        },
        {
          "output_type": "stream",
          "name": "stdout",
          "text": [
            "epoch=62: "
          ]
        },
        {
          "output_type": "stream",
          "name": "stderr",
          "text": [
            "100%|██████████| 638/638 [01:34<00:00,  6.78it/s, loss=0.00976, val_loss=0.119, acc=1, val_acc=0.97]\n"
          ]
        },
        {
          "output_type": "stream",
          "name": "stdout",
          "text": [
            "epoch=63: "
          ]
        },
        {
          "output_type": "stream",
          "name": "stderr",
          "text": [
            "100%|██████████| 638/638 [01:34<00:00,  6.77it/s, loss=0.00998, val_loss=0.119, acc=1, val_acc=0.97]\n"
          ]
        },
        {
          "output_type": "stream",
          "name": "stdout",
          "text": [
            "epoch=64: "
          ]
        },
        {
          "output_type": "stream",
          "name": "stderr",
          "text": [
            "100%|██████████| 638/638 [01:33<00:00,  6.81it/s, loss=0.0102, val_loss=0.119, acc=1, val_acc=0.97]\n"
          ]
        },
        {
          "output_type": "stream",
          "name": "stdout",
          "text": [
            "epoch=65: "
          ]
        },
        {
          "output_type": "stream",
          "name": "stderr",
          "text": [
            "100%|██████████| 638/638 [01:33<00:00,  6.82it/s, loss=0.0105, val_loss=0.119, acc=1, val_acc=0.97]\n"
          ]
        },
        {
          "output_type": "stream",
          "name": "stdout",
          "text": [
            "epoch=66: "
          ]
        },
        {
          "output_type": "stream",
          "name": "stderr",
          "text": [
            "100%|██████████| 638/638 [01:34<00:00,  6.78it/s, loss=0.0108, val_loss=0.12, acc=1, val_acc=0.97]\n"
          ]
        },
        {
          "output_type": "stream",
          "name": "stdout",
          "text": [
            "epoch=67: "
          ]
        },
        {
          "output_type": "stream",
          "name": "stderr",
          "text": [
            "100%|██████████| 638/638 [01:32<00:00,  6.89it/s, loss=0.0111, val_loss=0.12, acc=1, val_acc=0.97]\n"
          ]
        },
        {
          "output_type": "stream",
          "name": "stdout",
          "text": [
            "epoch=68: "
          ]
        },
        {
          "output_type": "stream",
          "name": "stderr",
          "text": [
            "100%|██████████| 638/638 [01:32<00:00,  6.89it/s, loss=0.0114, val_loss=0.12, acc=1, val_acc=0.97]\n"
          ]
        },
        {
          "output_type": "stream",
          "name": "stdout",
          "text": [
            "epoch=69: "
          ]
        },
        {
          "output_type": "stream",
          "name": "stderr",
          "text": [
            "100%|██████████| 638/638 [01:33<00:00,  6.80it/s, loss=0.0117, val_loss=0.121, acc=1, val_acc=0.97]\n"
          ]
        },
        {
          "output_type": "stream",
          "name": "stdout",
          "text": [
            "epoch=70: "
          ]
        },
        {
          "output_type": "stream",
          "name": "stderr",
          "text": [
            "100%|██████████| 638/638 [01:34<00:00,  6.79it/s, loss=0.0121, val_loss=0.121, acc=1, val_acc=0.97]\n"
          ]
        },
        {
          "output_type": "display_data",
          "data": {
            "text/plain": [
              "<Figure size 432x288 with 1 Axes>"
            ],
            "image/png": "[encoded data removed]"
          },
          "metadata": {
            "needs_background": "light"
          }
        },
        {
          "output_type": "stream",
          "name": "stdout",
          "text": [
            "epoch=71: "
          ]
        },
        {
          "output_type": "stream",
          "name": "stderr",
          "text": [
            "100%|██████████| 638/638 [01:35<00:00,  6.69it/s, loss=0.0124, val_loss=0.121, acc=1, val_acc=0.97]\n"
          ]
        },
        {
          "output_type": "stream",
          "name": "stdout",
          "text": [
            "epoch=72: "
          ]
        },
        {
          "output_type": "stream",
          "name": "stderr",
          "text": [
            "100%|██████████| 638/638 [01:34<00:00,  6.78it/s, loss=0.0128, val_loss=0.122, acc=1, val_acc=0.97]\n"
          ]
        },
        {
          "output_type": "stream",
          "name": "stdout",
          "text": [
            "epoch=73: "
          ]
        },
        {
          "output_type": "stream",
          "name": "stderr",
          "text": [
            "100%|██████████| 638/638 [01:33<00:00,  6.80it/s, loss=0.0132, val_loss=0.122, acc=1, val_acc=0.97]\n"
          ]
        },
        {
          "output_type": "stream",
          "name": "stdout",
          "text": [
            "epoch=74: "
          ]
        },
        {
          "output_type": "stream",
          "name": "stderr",
          "text": [
            "100%|██████████| 638/638 [01:34<00:00,  6.77it/s, loss=0.0136, val_loss=0.122, acc=1, val_acc=0.97]\n"
          ]
        },
        {
          "output_type": "stream",
          "name": "stdout",
          "text": [
            "epoch=75: "
          ]
        },
        {
          "output_type": "stream",
          "name": "stderr",
          "text": [
            "100%|██████████| 638/638 [01:34<00:00,  6.75it/s, loss=0.014, val_loss=0.123, acc=1, val_acc=0.97]\n"
          ]
        },
        {
          "output_type": "stream",
          "name": "stdout",
          "text": [
            "epoch=76: "
          ]
        },
        {
          "output_type": "stream",
          "name": "stderr",
          "text": [
            "100%|██████████| 638/638 [01:33<00:00,  6.84it/s, loss=0.0145, val_loss=0.123, acc=1, val_acc=0.97]\n"
          ]
        },
        {
          "output_type": "stream",
          "name": "stdout",
          "text": [
            "epoch=77: "
          ]
        },
        {
          "output_type": "stream",
          "name": "stderr",
          "text": [
            "100%|██████████| 638/638 [01:33<00:00,  6.84it/s, loss=0.015, val_loss=0.124, acc=1, val_acc=0.97]\n"
          ]
        },
        {
          "output_type": "stream",
          "name": "stdout",
          "text": [
            "epoch=78: "
          ]
        },
        {
          "output_type": "stream",
          "name": "stderr",
          "text": [
            "100%|██████████| 638/638 [01:34<00:00,  6.76it/s, loss=0.0155, val_loss=0.124, acc=1, val_acc=0.97]\n"
          ]
        },
        {
          "output_type": "stream",
          "name": "stdout",
          "text": [
            "epoch=79: "
          ]
        },
        {
          "output_type": "stream",
          "name": "stderr",
          "text": [
            "100%|██████████| 638/638 [01:33<00:00,  6.84it/s, loss=0.016, val_loss=0.125, acc=1, val_acc=0.97]\n"
          ]
        },
        {
          "output_type": "stream",
          "name": "stdout",
          "text": [
            "epoch=80: "
          ]
        },
        {
          "output_type": "stream",
          "name": "stderr",
          "text": [
            "100%|██████████| 638/638 [02:06<00:00,  5.03it/s, loss=0.00757, val_loss=0.116, acc=1, val_acc=0.97]\n"
          ]
        },
        {
          "output_type": "display_data",
          "data": {
            "text/plain": [
              "<Figure size 432x288 with 1 Axes>"
            ],
            "image/png": "[encoded data removed]"
          },
          "metadata": {
            "needs_background": "light"
          }
        },
        {
          "output_type": "stream",
          "name": "stdout",
          "text": [
            "epoch=81: "
          ]
        },
        {
          "output_type": "stream",
          "name": "stderr",
          "text": [
            "100%|██████████| 638/638 [01:33<00:00,  6.79it/s, loss=0.00757, val_loss=0.116, acc=1, val_acc=0.97]\n"
          ]
        },
        {
          "output_type": "stream",
          "name": "stdout",
          "text": [
            "epoch=82: "
          ]
        },
        {
          "output_type": "stream",
          "name": "stderr",
          "text": [
            "100%|██████████| 638/638 [01:34<00:00,  6.74it/s, loss=0.00757, val_loss=0.116, acc=1, val_acc=0.97]\n"
          ]
        },
        {
          "output_type": "stream",
          "name": "stdout",
          "text": [
            "epoch=83: "
          ]
        },
        {
          "output_type": "stream",
          "name": "stderr",
          "text": [
            "100%|██████████| 638/638 [01:35<00:00,  6.70it/s, loss=0.00757, val_loss=0.116, acc=1, val_acc=0.97]\n"
          ]
        },
        {
          "output_type": "stream",
          "name": "stdout",
          "text": [
            "epoch=84: "
          ]
        },
        {
          "output_type": "stream",
          "name": "stderr",
          "text": [
            "100%|██████████| 638/638 [01:34<00:00,  6.72it/s, loss=0.00757, val_loss=0.116, acc=1, val_acc=0.97]\n"
          ]
        },
        {
          "output_type": "stream",
          "name": "stdout",
          "text": [
            "epoch=85: "
          ]
        },
        {
          "output_type": "stream",
          "name": "stderr",
          "text": [
            "100%|██████████| 638/638 [01:33<00:00,  6.82it/s, loss=0.00757, val_loss=0.116, acc=1, val_acc=0.97]\n"
          ]
        },
        {
          "output_type": "stream",
          "name": "stdout",
          "text": [
            "epoch=86: "
          ]
        },
        {
          "output_type": "stream",
          "name": "stderr",
          "text": [
            "100%|██████████| 638/638 [01:33<00:00,  6.80it/s, loss=0.00757, val_loss=0.116, acc=1, val_acc=0.97]\n"
          ]
        },
        {
          "output_type": "stream",
          "name": "stdout",
          "text": [
            "epoch=87: "
          ]
        },
        {
          "output_type": "stream",
          "name": "stderr",
          "text": [
            "100%|██████████| 638/638 [01:33<00:00,  6.80it/s, loss=0.00757, val_loss=0.116, acc=1, val_acc=0.97]\n"
          ]
        },
        {
          "output_type": "stream",
          "name": "stdout",
          "text": [
            "epoch=88: "
          ]
        },
        {
          "output_type": "stream",
          "name": "stderr",
          "text": [
            "100%|██████████| 638/638 [01:34<00:00,  6.75it/s, loss=0.00757, val_loss=0.116, acc=1, val_acc=0.97]\n"
          ]
        },
        {
          "output_type": "stream",
          "name": "stdout",
          "text": [
            "epoch=89: "
          ]
        },
        {
          "output_type": "stream",
          "name": "stderr",
          "text": [
            "100%|██████████| 638/638 [01:35<00:00,  6.68it/s, loss=0.00757, val_loss=0.116, acc=1, val_acc=0.97]\n"
          ]
        },
        {
          "output_type": "stream",
          "name": "stdout",
          "text": [
            "epoch=90: "
          ]
        },
        {
          "output_type": "stream",
          "name": "stderr",
          "text": [
            "100%|██████████| 638/638 [01:33<00:00,  6.79it/s, loss=0.00757, val_loss=0.116, acc=1, val_acc=0.97]\n"
          ]
        },
        {
          "output_type": "display_data",
          "data": {
            "text/plain": [
              "<Figure size 432x288 with 1 Axes>"
            ],
            "image/png": "[encoded data removed]"
          },
          "metadata": {
            "needs_background": "light"
          }
        },
        {
          "output_type": "stream",
          "name": "stdout",
          "text": [
            "epoch=91: "
          ]
        },
        {
          "output_type": "stream",
          "name": "stderr",
          "text": [
            "100%|██████████| 638/638 [01:33<00:00,  6.79it/s, loss=0.00757, val_loss=0.116, acc=1, val_acc=0.97]\n"
          ]
        },
        {
          "output_type": "stream",
          "name": "stdout",
          "text": [
            "epoch=92: "
          ]
        },
        {
          "output_type": "stream",
          "name": "stderr",
          "text": [
            "100%|██████████| 638/638 [01:34<00:00,  6.77it/s, loss=0.00757, val_loss=0.116, acc=1, val_acc=0.97]\n"
          ]
        },
        {
          "output_type": "stream",
          "name": "stdout",
          "text": [
            "epoch=93: "
          ]
        },
        {
          "output_type": "stream",
          "name": "stderr",
          "text": [
            "100%|██████████| 638/638 [01:33<00:00,  6.84it/s, loss=0.00757, val_loss=0.116, acc=1, val_acc=0.97]\n"
          ]
        },
        {
          "output_type": "stream",
          "name": "stdout",
          "text": [
            "epoch=94: "
          ]
        },
        {
          "output_type": "stream",
          "name": "stderr",
          "text": [
            "100%|██████████| 638/638 [01:33<00:00,  6.82it/s, loss=0.00757, val_loss=0.116, acc=1, val_acc=0.97]\n"
          ]
        },
        {
          "output_type": "stream",
          "name": "stdout",
          "text": [
            "epoch=95: "
          ]
        },
        {
          "output_type": "stream",
          "name": "stderr",
          "text": [
            "100%|██████████| 638/638 [01:33<00:00,  6.85it/s, loss=0.00757, val_loss=0.116, acc=1, val_acc=0.97]\n"
          ]
        },
        {
          "output_type": "stream",
          "name": "stdout",
          "text": [
            "epoch=96: "
          ]
        },
        {
          "output_type": "stream",
          "name": "stderr",
          "text": [
            "100%|██████████| 638/638 [01:33<00:00,  6.85it/s, loss=0.00757, val_loss=0.116, acc=1, val_acc=0.97]\n"
          ]
        },
        {
          "output_type": "stream",
          "name": "stdout",
          "text": [
            "epoch=97: "
          ]
        },
        {
          "output_type": "stream",
          "name": "stderr",
          "text": [
            "100%|██████████| 638/638 [01:33<00:00,  6.86it/s, loss=0.00757, val_loss=0.116, acc=1, val_acc=0.97]\n"
          ]
        },
        {
          "output_type": "stream",
          "name": "stdout",
          "text": [
            "epoch=98: "
          ]
        },
        {
          "output_type": "stream",
          "name": "stderr",
          "text": [
            "100%|██████████| 638/638 [01:33<00:00,  6.84it/s, loss=0.00757, val_loss=0.116, acc=1, val_acc=0.97]\n"
          ]
        },
        {
          "output_type": "stream",
          "name": "stdout",
          "text": [
            "epoch=99: "
          ]
        },
        {
          "output_type": "stream",
          "name": "stderr",
          "text": [
            "100%|██████████| 638/638 [01:33<00:00,  6.83it/s, loss=0.00757, val_loss=0.116, acc=1, val_acc=0.97]\n"
          ]
        },
        {
          "output_type": "stream",
          "name": "stdout",
          "text": [
            "accuracy=0.9488888888888889\n"
          ]
        }
      ],
      "source": [
        "epochs = 100\n",
        "\n",
        "num=2\n",
        "x,t=create_img(X_train,y_train,num)\n",
        "model = build_model(fs,wdl)\n",
        "history =  model.fit(model,x,t,epochs,bs,X_test,y_test)\n",
        "test_acc =model.accuracy(X_test,y_test)\n",
        "print('accuracy={}'.format(test_acc))"
      ]
    }
  ],
  "metadata": {
    "accelerator": "TPU",
    "colab": {
      "collapsed_sections": [],
      "name": "VGG(4)_(1).ipynb",
      "provenance": [],
      "include_colab_link": true
    },
    "kernelspec": {
      "display_name": "Python 3",
      "language": "python",
      "name": "python3"
    },
    "language_info": {
      "codemirror_mode": {
        "name": "ipython",
        "version": 3
      },
      "file_extension": ".py",
      "mimetype": "text/x-python",
      "name": "python",
      "nbconvert_exporter": "python",
      "pygments_lexer": "ipython3",
      "version": "3.7.3"
    },
    "gpuClass": "standard"
  },
  "nbformat": 4,
  "nbformat_minor": 0
}